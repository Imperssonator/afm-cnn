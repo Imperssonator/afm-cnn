{
 "cells": [
  {
   "cell_type": "code",
   "execution_count": null,
   "metadata": {
    "collapsed": false,
    "deletable": true,
    "editable": true
   },
   "outputs": [],
   "source": [
    "import numpy as np\n",
    "from scipy.misc import imresize\n",
    "from skimage.color import gray2rgb\n",
    "from mfeat import io\n",
    "import json\n",
    "from keras.models import Model\n",
    "from keras import backend as K\n",
    "from keras.applications.vgg16 import VGG16, preprocess_input\n",
    "\n",
    "cnn = VGG16(include_top=False, weights='imagenet')\n",
    "layer_id = {layer.name: idx for idx, layer in enumerate(cnn.layers)}\n"
   ]
  },
  {
   "cell_type": "code",
   "execution_count": null,
   "metadata": {
    "collapsed": false,
    "deletable": true,
    "editable": true
   },
   "outputs": [],
   "source": [
    "layer_id"
   ]
  },
  {
   "cell_type": "code",
   "execution_count": null,
   "metadata": {
    "collapsed": false,
    "deletable": true,
    "editable": true
   },
   "outputs": [],
   "source": [
    "ww = cnn.get_weights()\n",
    "[b.shape for b in ww]"
   ]
  },
  {
   "cell_type": "code",
   "execution_count": null,
   "metadata": {
    "collapsed": false,
    "deletable": true,
    "editable": true
   },
   "outputs": [],
   "source": [
    "model = Model(input=cnn.input, output=cnn.get_layer('block4_conv3').output)"
   ]
  },
  {
   "cell_type": "code",
   "execution_count": null,
   "metadata": {
    "collapsed": false,
    "deletable": true,
    "editable": true
   },
   "outputs": [],
   "source": [
    "def image_tensor(image):\n",
    "    \"\"\" replicate a grayscale image onto the three channels of an RGB image\n",
    "        and reshape into a tensor appropriate for keras\n",
    "    \"\"\"\n",
    "    image3d = gray2rgb(image).astype(np.float32)\n",
    "    x = 255*image3d\n",
    "    x = np.expand_dims(x, axis=0)\n",
    "    return preprocess_input(x)"
   ]
  },
  {
   "cell_type": "code",
   "execution_count": null,
   "metadata": {
    "collapsed": false,
    "deletable": true,
    "editable": true
   },
   "outputs": [],
   "source": [
    "micrographs_json = './data/full/micrographs.json'\n",
    "# obtain a dataset\n",
    "with open(micrographs_json, 'r') as f:\n",
    "    micrograph_dataset = json.load(f)\n",
    "\n",
    "# work with sorted micrograph keys...\n",
    "keys = sorted(micrograph_dataset.keys())\n",
    "micrographs = [micrograph_dataset[key] for key in keys]\n",
    "micrographs = [io.load_image(m, barheight=38) for m in micrographs]\n"
   ]
  },
  {
   "cell_type": "code",
   "execution_count": null,
   "metadata": {
    "collapsed": false,
    "deletable": true,
    "editable": true
   },
   "outputs": [],
   "source": [
    "import pandas as pd\n",
    "afm_csv = '/Users/Imperssonator/CC/uhcs/data/afm3000/afm3000.csv'\n",
    "df_mg = pd.read_csv(afm_csv)\n",
    "df_mg = df_mg.set_index('id')"
   ]
  },
  {
   "cell_type": "code",
   "execution_count": null,
   "metadata": {
    "collapsed": false,
    "deletable": true,
    "editable": true
   },
   "outputs": [],
   "source": [
    "keys = df_mg['id'].tolist()\n",
    "micrographs = [io.load_image(file, barheight=0) for file in df_mg['imPath'].tolist()]"
   ]
  },
  {
   "cell_type": "code",
   "execution_count": null,
   "metadata": {
    "collapsed": false,
    "deletable": true,
    "editable": true
   },
   "outputs": [],
   "source": [
    "import matplotlib.pyplot as plt\n",
    "%matplotlib notebook\n",
    "%config InlineBackend.figure_format = 'retina'\n",
    "\n",
    "im_test = io.load_image(df_mg.loc[72].imPath, barheight=0)\n",
    "plt.imshow(im_test,cmap='gray')"
   ]
  },
  {
   "cell_type": "code",
   "execution_count": null,
   "metadata": {
    "collapsed": true,
    "deletable": true,
    "editable": true
   },
   "outputs": [],
   "source": [
    "import h5py\n",
    "\n",
    "def load_representations(datafile):\n",
    "    # grab image representations from hdf5 file\n",
    "    keys, features = [], []\n",
    "\n",
    "    with h5py.File(datafile, 'r') as f:\n",
    "        for key in f:\n",
    "            keys.append(key)\n",
    "            features.append(f[key][...])\n",
    "\n",
    "    return np.array(keys), np.array(features)"
   ]
  },
  {
   "cell_type": "code",
   "execution_count": null,
   "metadata": {
    "collapsed": false
   },
   "outputs": [],
   "source": [
    "from sklearn.externals import joblib\n",
    "dict_file='data/afm3000/dictionary/ssift-kmeans-100.pkl'\n",
    "dictionary = joblib.load(dict_file)"
   ]
  },
  {
   "cell_type": "code",
   "execution_count": null,
   "metadata": {
    "collapsed": false
   },
   "outputs": [],
   "source": [
    "dictionary.cluster_centers_.shape"
   ]
  },
  {
   "cell_type": "code",
   "execution_count": null,
   "metadata": {
    "collapsed": false
   },
   "outputs": [],
   "source": [
    "from mfeat import local\n",
    "sift_result = local.sparse_sift(im_test)\n",
    "sift_result.shape"
   ]
  },
  {
   "cell_type": "code",
   "execution_count": null,
   "metadata": {
    "collapsed": true
   },
   "outputs": [],
   "source": [
    "from mfeat import encode\n",
    "vlad_feats = encode.vlad(sift_result,dictionary)"
   ]
  },
  {
   "cell_type": "code",
   "execution_count": null,
   "metadata": {
    "collapsed": false
   },
   "outputs": [],
   "source": [
    "vlad_feats.shape"
   ]
  },
  {
   "cell_type": "code",
   "execution_count": null,
   "metadata": {
    "collapsed": true
   },
   "outputs": [],
   "source": [
    "datafile='data/afm3000/features/ssift-vlad-100.h5'\n",
    "vlad_keys, vlad_feats = load_representations(datafile)\n",
    "vlad_ids = np.array([int(k) for k in vlad_keys])"
   ]
  },
  {
   "cell_type": "code",
   "execution_count": null,
   "metadata": {
    "collapsed": true
   },
   "outputs": [],
   "source": []
  },
  {
   "cell_type": "code",
   "execution_count": null,
   "metadata": {
    "collapsed": false
   },
   "outputs": [],
   "source": [
    "%matplotlib inline\n",
    "test_feat=sift_feats[np.where(sift_ids==72)][0,:]\n",
    "x = np.array([i for i in range(test_feat.shape[0])])\n",
    "p1=plt.bar(x,test_feat)\n",
    "plt.show()"
   ]
  },
  {
   "cell_type": "code",
   "execution_count": null,
   "metadata": {
    "collapsed": true
   },
   "outputs": [],
   "source": [
    "cnn_feat = model.predict(image_tensor(im_test))"
   ]
  },
  {
   "cell_type": "code",
   "execution_count": null,
   "metadata": {
    "collapsed": false
   },
   "outputs": [],
   "source": [
    "cnn_feat.shape"
   ]
  },
  {
   "cell_type": "code",
   "execution_count": null,
   "metadata": {
    "collapsed": true
   },
   "outputs": [],
   "source": [
    "from sklearn.externals import joblib\n",
    "cnn_dict_file='data/afm3000/dictionary/vgg16_block4_conv3-kmeans-32.pkl'\n",
    "cnn_dict = joblib.load(cnn_dict_file)"
   ]
  },
  {
   "cell_type": "code",
   "execution_count": null,
   "metadata": {
    "collapsed": false
   },
   "outputs": [],
   "source": [
    "cnn_dict.cluster_centers_.shape"
   ]
  },
  {
   "cell_type": "code",
   "execution_count": null,
   "metadata": {
    "collapsed": true
   },
   "outputs": [],
   "source": [
    "keys = df_mg['id'].tolist()\n",
    "keys = [str(k) for k in keys]\n",
    "micrographs = [io.load_image(file, barheight=0) for file in df_mg['imPath'].tolist()]\n",
    "\n",
    "# set up paths\n",
    "dictionary_file = '{dir}/dictionary/{method}-kmeans-{n_clusters}.pkl'.format(**metadata)\n",
    "featurefile = '{dir}/features/{method}-{encoding}-{n_clusters}.h5'.format(**metadata)"
   ]
  },
  {
   "cell_type": "code",
   "execution_count": null,
   "metadata": {
    "collapsed": false
   },
   "outputs": [],
   "source": [
    "datafile='data/afm3000/features/vgg16_block4_conv3-vlad-32.h5'\n",
    "cnn_keys, cnn_feats = load_representations(datafile)"
   ]
  },
  {
   "cell_type": "code",
   "execution_count": null,
   "metadata": {
    "collapsed": false
   },
   "outputs": [],
   "source": [
    "cnn_feats.shape"
   ]
  },
  {
   "cell_type": "code",
   "execution_count": null,
   "metadata": {
    "collapsed": false
   },
   "outputs": [],
   "source": [
    "features.shape"
   ]
  },
  {
   "cell_type": "code",
   "execution_count": null,
   "metadata": {
    "collapsed": false
   },
   "outputs": [],
   "source": [
    "    ids = pd.Series([int(s) for s in keys])\n",
    "    df_mg = pd.read_csv('/Users/Imperssonator/CC/uhcs/data/afm3000/afm3000.csv')\n",
    "    which_ids = np.where(ids.apply(lambda x: x in df_mg.id.tolist()))[0]\n",
    "    keys_reduced = keys[which_ids]\n",
    "    ids_reduced = pd.Series([int(s) for s in keys_reduced])\n",
    "    features_reduced = features[which_ids,:]\n",
    "    df_mg = df_mg.set_index('id')\n",
    "    labels = np.array(df_mg['noise'].loc[ids_reduced.tolist()])"
   ]
  },
  {
   "cell_type": "code",
   "execution_count": null,
   "metadata": {
    "collapsed": false
   },
   "outputs": [],
   "source": [
    "np.unique(labels)"
   ]
  },
  {
   "cell_type": "code",
   "execution_count": null,
   "metadata": {
    "collapsed": false
   },
   "outputs": [],
   "source": [
    "np.where(df_mg['noise'].loc[ids_reduced.tolist()].apply(lambda x: type(x)!=str))"
   ]
  },
  {
   "cell_type": "code",
   "execution_count": null,
   "metadata": {
    "collapsed": false
   },
   "outputs": [],
   "source": [
    "df_mg.iloc[1046]"
   ]
  },
  {
   "cell_type": "code",
   "execution_count": null,
   "metadata": {
    "collapsed": false
   },
   "outputs": [],
   "source": [
    "labeltypes=[type(l) for l in labels]\n",
    "for i,l in enumerate(labeltypes):\n",
    "    if l != str:\n",
    "        print(i)"
   ]
  },
  {
   "cell_type": "code",
   "execution_count": null,
   "metadata": {
    "collapsed": false
   },
   "outputs": [],
   "source": [
    "keys[np.array(ids.apply(lambda x: x in df_mg.id.tolist()))]"
   ]
  },
  {
   "cell_type": "code",
   "execution_count": null,
   "metadata": {
    "collapsed": false
   },
   "outputs": [],
   "source": [
    "features[np.array(ids.apply(lambda x: x in df_mg.id.tolist())),:]"
   ]
  },
  {
   "cell_type": "code",
   "execution_count": null,
   "metadata": {
    "collapsed": false
   },
   "outputs": [],
   "source": [
    "ids[ids.apply(lambda x: x in df_mg.id.tolist())]"
   ]
  },
  {
   "cell_type": "code",
   "execution_count": null,
   "metadata": {
    "collapsed": false
   },
   "outputs": [],
   "source": [
    "\n",
    "df_mg = pd.read_csv('/Users/Imperssonator/CC/uhcs/data/afm3000/afm3000.csv')\n",
    "df_mg = df_mg.set_index('id')\n",
    "df_mg"
   ]
  },
  {
   "cell_type": "code",
   "execution_count": null,
   "metadata": {
    "collapsed": false
   },
   "outputs": [],
   "source": [
    "ids"
   ]
  },
  {
   "cell_type": "code",
   "execution_count": null,
   "metadata": {
    "collapsed": false
   },
   "outputs": [],
   "source": [
    "labels = np.array(df_mg['fiber'].loc[ids.tolist()])\n",
    "np.unique(labels)"
   ]
  },
  {
   "cell_type": "code",
   "execution_count": null,
   "metadata": {
    "collapsed": false
   },
   "outputs": [],
   "source": [
    "df_mg.id"
   ]
  },
  {
   "cell_type": "code",
   "execution_count": null,
   "metadata": {
    "collapsed": false
   },
   "outputs": [],
   "source": [
    "sl=[m.shape for m in micrographs]\n"
   ]
  },
  {
   "cell_type": "code",
   "execution_count": null,
   "metadata": {
    "collapsed": false,
    "deletable": true,
    "editable": true
   },
   "outputs": [],
   "source": []
  },
  {
   "cell_type": "code",
   "execution_count": null,
   "metadata": {
    "collapsed": false,
    "deletable": true,
    "editable": true
   },
   "outputs": [],
   "source": [
    "out.shape"
   ]
  },
  {
   "cell_type": "code",
   "execution_count": null,
   "metadata": {
    "collapsed": false,
    "deletable": true,
    "editable": true
   },
   "outputs": [],
   "source": [
    "range(out.shape[0])"
   ]
  },
  {
   "cell_type": "code",
   "execution_count": null,
   "metadata": {
    "collapsed": false,
    "deletable": true,
    "editable": true
   },
   "outputs": [],
   "source": [
    "np.random.choice(range(out.shape[0]), size=0.1, replace=False)"
   ]
  },
  {
   "cell_type": "code",
   "execution_count": null,
   "metadata": {
    "collapsed": false,
    "deletable": true,
    "editable": true
   },
   "outputs": [],
   "source": [
    "out.shape"
   ]
  },
  {
   "cell_type": "code",
   "execution_count": null,
   "metadata": {
    "collapsed": false,
    "deletable": true,
    "editable": true
   },
   "outputs": [],
   "source": [
    "out_reshape = out.reshape((-1, out.shape[-1])) # to [feature, channels]\n",
    "out_reshape.shape"
   ]
  },
  {
   "cell_type": "code",
   "execution_count": null,
   "metadata": {
    "collapsed": true,
    "deletable": true,
    "editable": true
   },
   "outputs": [],
   "source": [
    "def tensor_to_features(X, subsample=None):\n",
    "    \"\"\" convert feature map tensor to numpy data matrix {nsamples, nchannels} \"\"\"\n",
    "    \n",
    "    # transpose array so that map dimensions are on the last axis\n",
    "#     features = X.transpose(0,2,3,1) # to [batch, height, width, channels]\n",
    "    features = X.reshape((-1, X.shape[-1])) # to [feature, channels]\n",
    "\n",
    "#     if subsample >= 1.0 or subsample <= 0:\n",
    "#         subsample = None\n",
    "\n",
    "    if subsample is not None:\n",
    "        choice = np.sort(\n",
    "            np.random.choice(range(features.shape[0]), size=subsample, replace=False)\n",
    "        )\n",
    "        features = features[choice]\n",
    "        \n",
    "    return features"
   ]
  },
  {
   "cell_type": "code",
   "execution_count": null,
   "metadata": {
    "collapsed": false,
    "deletable": true,
    "editable": true
   },
   "outputs": [],
   "source": [
    "features=tensor_to_features(out)"
   ]
  },
  {
   "cell_type": "code",
   "execution_count": null,
   "metadata": {
    "collapsed": false,
    "deletable": true,
    "editable": true
   },
   "outputs": [],
   "source": [
    "features.shape"
   ]
  },
  {
   "cell_type": "code",
   "execution_count": null,
   "metadata": {
    "collapsed": false,
    "deletable": true,
    "editable": true
   },
   "outputs": [],
   "source": [
    "features[features==0].shape"
   ]
  },
  {
   "cell_type": "code",
   "execution_count": null,
   "metadata": {
    "collapsed": false,
    "deletable": true,
    "editable": true
   },
   "outputs": [],
   "source": [
    "4096*512"
   ]
  },
  {
   "cell_type": "code",
   "execution_count": null,
   "metadata": {
    "collapsed": true,
    "deletable": true,
    "editable": true
   },
   "outputs": [],
   "source": [
    "import h5py"
   ]
  },
  {
   "cell_type": "code",
   "execution_count": null,
   "metadata": {
    "collapsed": true,
    "deletable": true,
    "editable": true
   },
   "outputs": [],
   "source": [
    "import glob"
   ]
  },
  {
   "cell_type": "code",
   "execution_count": null,
   "metadata": {
    "collapsed": true,
    "deletable": true,
    "editable": true
   },
   "outputs": [],
   "source": [
    "datafile=glob.glob('/Users/Imperssonator/CC/uhcs/data/full/features/*')"
   ]
  },
  {
   "cell_type": "code",
   "execution_count": null,
   "metadata": {
    "collapsed": false,
    "deletable": true,
    "editable": true
   },
   "outputs": [],
   "source": [
    "datafile=datafile[0]"
   ]
  },
  {
   "cell_type": "code",
   "execution_count": null,
   "metadata": {
    "collapsed": true,
    "deletable": true,
    "editable": true
   },
   "outputs": [],
   "source": [
    "h5f=h5py.File(datafile[0],'r')"
   ]
  },
  {
   "cell_type": "code",
   "execution_count": null,
   "metadata": {
    "collapsed": false,
    "deletable": true,
    "editable": true
   },
   "outputs": [],
   "source": [
    "def load_representations(datafile):\n",
    "    # grab image representations from hdf5 file\n",
    "    keys, features = [], []\n",
    "\n",
    "    with h5py.File(datafile, 'r') as f:\n",
    "        for key in f:\n",
    "            keys.append(key)\n",
    "            features.append(f[key][...])\n",
    "\n",
    "    return np.array(keys), np.array(features)"
   ]
  },
  {
   "cell_type": "code",
   "execution_count": null,
   "metadata": {
    "collapsed": true,
    "deletable": true,
    "editable": true
   },
   "outputs": [],
   "source": [
    "keys, feats = load_representations(file[0])"
   ]
  },
  {
   "cell_type": "code",
   "execution_count": null,
   "metadata": {
    "collapsed": false,
    "deletable": true,
    "editable": true
   },
   "outputs": [],
   "source": [
    "feats.shape"
   ]
  },
  {
   "cell_type": "code",
   "execution_count": null,
   "metadata": {
    "collapsed": false,
    "deletable": true,
    "editable": true
   },
   "outputs": [],
   "source": [
    "keys.shape"
   ]
  },
  {
   "cell_type": "code",
   "execution_count": null,
   "metadata": {
    "collapsed": false,
    "deletable": true,
    "editable": true
   },
   "outputs": [],
   "source": [
    "keys, features = load_representations(datafile)\n",
    "\n",
    "labels = []\n",
    "for key in keys:\n",
    "    if '-' in key:\n",
    "        # deal with cropped micrographs: key -> Micrograph.id-UL\n",
    "        m_id, quadrant = key.split('-')\n",
    "    else:\n",
    "        m_id = key\n",
    "    m = db.query(Micrograph).filter(Micrograph.micrograph_id == int(m_id)).one()\n",
    "    labels.append(m.primary_microconstituent)\n",
    "labels = np.array(labels)\n",
    "\n",
    "# simplify: get primary microconstituent; throw out martensite\n",
    "primary_label = np.array([label.split('+')[0] for label in labels])\n",
    "k = np.array(keys)[primary_label != 'martensite']\n",
    "l = primary_label[primary_label != 'martensite']\n",
    "X = features[primary_label != 'martensite']\n",
    "\n",
    "l, X, sel = select_balanced_dataset(l, X, n_per_class=n_per_class, seed=seed)\n",
    "\n",
    "cv = StratifiedKFold(n_splits=10, shuffle=True)\n",
    "# cv = StratifiedShuffleSplit(n_splits=10, test_size=0.1)\n"
   ]
  },
  {
   "cell_type": "code",
   "execution_count": null,
   "metadata": {
    "collapsed": false,
    "deletable": true,
    "editable": true
   },
   "outputs": [],
   "source": [
    "alist = [1, 2, 3, 4, 5]\n",
    "alist[[1, 3]]"
   ]
  },
  {
   "cell_type": "code",
   "execution_count": null,
   "metadata": {
    "collapsed": false
   },
   "outputs": [],
   "source": [
    "np.unique(labels)"
   ]
  },
  {
   "cell_type": "code",
   "execution_count": null,
   "metadata": {
    "collapsed": false
   },
   "outputs": [],
   "source": [
    "np.unique(list(labels))"
   ]
  },
  {
   "cell_type": "code",
   "execution_count": null,
   "metadata": {
    "collapsed": false
   },
   "outputs": [],
   "source": [
    "import os\n",
    "featuresfile = '/Users/Imperssonator/CC/uhcs/data/afm3000/tsne/ssift-vlad-100.h5'\n",
    "path_list = os.path.normpath(featuresfile).split(os.sep)\n",
    "dataset_dir = os.path.join(*list(path_list[:-2]))"
   ]
  },
  {
   "cell_type": "code",
   "execution_count": null,
   "metadata": {
    "collapsed": false
   },
   "outputs": [],
   "source": [
    "os.path.join(path_list[:-2])"
   ]
  },
  {
   "cell_type": "code",
   "execution_count": null,
   "metadata": {
    "collapsed": true
   },
   "outputs": [],
   "source": []
  }
 ],
 "metadata": {
  "kernelspec": {
   "display_name": "Python 3",
   "language": "python",
   "name": "python3"
  },
  "language_info": {
   "codemirror_mode": {
    "name": "ipython",
    "version": 3
   },
   "file_extension": ".py",
   "mimetype": "text/x-python",
   "name": "python",
   "nbconvert_exporter": "python",
   "pygments_lexer": "ipython3",
   "version": "3.5.3"
  }
 },
 "nbformat": 4,
 "nbformat_minor": 2
}
