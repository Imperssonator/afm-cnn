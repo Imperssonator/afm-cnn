{
 "cells": [
  {
   "cell_type": "code",
   "execution_count": 1,
   "metadata": {},
   "outputs": [
    {
     "name": "stderr",
     "output_type": "stream",
     "text": [
      "Using TensorFlow backend.\n"
     ]
    }
   ],
   "source": [
    "import numpy as np\n",
    "from scipy.misc import imresize\n",
    "from skimage.color import gray2rgb\n",
    "from mfeat import io\n",
    "import json\n",
    "from keras.models import Model\n",
    "from keras import backend as K\n",
    "from keras.applications.vgg16 import VGG16, preprocess_input\n",
    "\n",
    "cnn = VGG16(include_top=False, weights='imagenet')\n",
    "layer_id = {layer.name: idx for idx, layer in enumerate(cnn.layers)}\n"
   ]
  },
  {
   "cell_type": "code",
   "execution_count": 2,
   "metadata": {},
   "outputs": [
    {
     "data": {
      "text/plain": [
       "{'block1_conv1': 1,\n",
       " 'block1_conv2': 2,\n",
       " 'block1_pool': 3,\n",
       " 'block2_conv1': 4,\n",
       " 'block2_conv2': 5,\n",
       " 'block2_pool': 6,\n",
       " 'block3_conv1': 7,\n",
       " 'block3_conv2': 8,\n",
       " 'block3_conv3': 9,\n",
       " 'block3_pool': 10,\n",
       " 'block4_conv1': 11,\n",
       " 'block4_conv2': 12,\n",
       " 'block4_conv3': 13,\n",
       " 'block4_pool': 14,\n",
       " 'block5_conv1': 15,\n",
       " 'block5_conv2': 16,\n",
       " 'block5_conv3': 17,\n",
       " 'block5_pool': 18,\n",
       " 'input_1': 0}"
      ]
     },
     "execution_count": 2,
     "metadata": {},
     "output_type": "execute_result"
    }
   ],
   "source": [
    "layer_id"
   ]
  },
  {
   "cell_type": "code",
   "execution_count": 3,
   "metadata": {},
   "outputs": [
    {
     "data": {
      "text/plain": [
       "{'activation': 'relu',\n",
       " 'activity_regularizer': None,\n",
       " 'bias_constraint': None,\n",
       " 'bias_initializer': {'class_name': 'Zeros', 'config': {}},\n",
       " 'bias_regularizer': None,\n",
       " 'data_format': 'channels_last',\n",
       " 'dilation_rate': (1, 1),\n",
       " 'filters': 64,\n",
       " 'kernel_constraint': None,\n",
       " 'kernel_initializer': {'class_name': 'VarianceScaling',\n",
       "  'config': {'distribution': 'uniform',\n",
       "   'mode': 'fan_avg',\n",
       "   'scale': 1.0,\n",
       "   'seed': None}},\n",
       " 'kernel_regularizer': None,\n",
       " 'kernel_size': (3, 3),\n",
       " 'name': 'block1_conv1',\n",
       " 'padding': 'same',\n",
       " 'strides': (1, 1),\n",
       " 'trainable': True,\n",
       " 'use_bias': True}"
      ]
     },
     "execution_count": 3,
     "metadata": {},
     "output_type": "execute_result"
    }
   ],
   "source": [
    "l1=cnn.layers[1]\n",
    "l1.get_config()"
   ]
  },
  {
   "cell_type": "code",
   "execution_count": 4,
   "metadata": {},
   "outputs": [
    {
     "data": {
      "text/plain": [
       "[(3, 3, 3, 64), (64,)]"
      ]
     },
     "execution_count": 4,
     "metadata": {},
     "output_type": "execute_result"
    }
   ],
   "source": [
    "i=1\n",
    "[l.shape for l in cnn.layers[i].get_weights()]"
   ]
  },
  {
   "cell_type": "code",
   "execution_count": 5,
   "metadata": {},
   "outputs": [
    {
     "data": {
      "text/html": [
       "\n",
       "    <div class=\"bk-root\">\n",
       "        <a href=\"https://bokeh.pydata.org\" target=\"_blank\" class=\"bk-logo bk-logo-small bk-logo-notebook\"></a>\n",
       "        <span id=\"8b70c56f-05fe-46fc-bab0-ed9c630c67cf\">Loading BokehJS ...</span>\n",
       "    </div>"
      ]
     },
     "metadata": {},
     "output_type": "display_data"
    },
    {
     "data": {
      "application/javascript": [
       "\n",
       "(function(root) {\n",
       "  function now() {\n",
       "    return new Date();\n",
       "  }\n",
       "\n",
       "  var force = true;\n",
       "\n",
       "  if (typeof (root._bokeh_onload_callbacks) === \"undefined\" || force === true) {\n",
       "    root._bokeh_onload_callbacks = [];\n",
       "    root._bokeh_is_loading = undefined;\n",
       "  }\n",
       "\n",
       "\n",
       "  \n",
       "  if (typeof (root._bokeh_timeout) === \"undefined\" || force === true) {\n",
       "    root._bokeh_timeout = Date.now() + 5000;\n",
       "    root._bokeh_failed_load = false;\n",
       "  }\n",
       "\n",
       "  var NB_LOAD_WARNING = {'data': {'text/html':\n",
       "     \"<div style='background-color: #fdd'>\\n\"+\n",
       "     \"<p>\\n\"+\n",
       "     \"BokehJS does not appear to have successfully loaded. If loading BokehJS from CDN, this \\n\"+\n",
       "     \"may be due to a slow or bad network connection. Possible fixes:\\n\"+\n",
       "     \"</p>\\n\"+\n",
       "     \"<ul>\\n\"+\n",
       "     \"<li>re-rerun `output_notebook()` to attempt to load from CDN again, or</li>\\n\"+\n",
       "     \"<li>use INLINE resources instead, as so:</li>\\n\"+\n",
       "     \"</ul>\\n\"+\n",
       "     \"<code>\\n\"+\n",
       "     \"from bokeh.resources import INLINE\\n\"+\n",
       "     \"output_notebook(resources=INLINE)\\n\"+\n",
       "     \"</code>\\n\"+\n",
       "     \"</div>\"}};\n",
       "\n",
       "  function display_loaded() {\n",
       "    if (root.Bokeh !== undefined) {\n",
       "      var el = document.getElementById(\"8b70c56f-05fe-46fc-bab0-ed9c630c67cf\");\n",
       "      if (el != null) {\n",
       "        el.textContent = \"BokehJS \" + Bokeh.version + \" successfully loaded.\";\n",
       "      }\n",
       "    } else if (Date.now() < root._bokeh_timeout) {\n",
       "      setTimeout(display_loaded, 100)\n",
       "    }\n",
       "  }\n",
       "\n",
       "\n",
       "  function run_callbacks() {\n",
       "    try {\n",
       "      root._bokeh_onload_callbacks.forEach(function(callback) { callback() });\n",
       "    }\n",
       "    finally {\n",
       "      delete root._bokeh_onload_callbacks\n",
       "    }\n",
       "    console.info(\"Bokeh: all callbacks have finished\");\n",
       "  }\n",
       "\n",
       "  function load_libs(js_urls, callback) {\n",
       "    root._bokeh_onload_callbacks.push(callback);\n",
       "    if (root._bokeh_is_loading > 0) {\n",
       "      console.log(\"Bokeh: BokehJS is being loaded, scheduling callback at\", now());\n",
       "      return null;\n",
       "    }\n",
       "    if (js_urls == null || js_urls.length === 0) {\n",
       "      run_callbacks();\n",
       "      return null;\n",
       "    }\n",
       "    console.log(\"Bokeh: BokehJS not loaded, scheduling load and callback at\", now());\n",
       "    root._bokeh_is_loading = js_urls.length;\n",
       "    for (var i = 0; i < js_urls.length; i++) {\n",
       "      var url = js_urls[i];\n",
       "      var s = document.createElement('script');\n",
       "      s.src = url;\n",
       "      s.async = false;\n",
       "      s.onreadystatechange = s.onload = function() {\n",
       "        root._bokeh_is_loading--;\n",
       "        if (root._bokeh_is_loading === 0) {\n",
       "          console.log(\"Bokeh: all BokehJS libraries loaded\");\n",
       "          run_callbacks()\n",
       "        }\n",
       "      };\n",
       "      s.onerror = function() {\n",
       "        console.warn(\"failed to load library \" + url);\n",
       "      };\n",
       "      console.log(\"Bokeh: injecting script tag for BokehJS library: \", url);\n",
       "      document.getElementsByTagName(\"head\")[0].appendChild(s);\n",
       "    }\n",
       "  };var element = document.getElementById(\"8b70c56f-05fe-46fc-bab0-ed9c630c67cf\");\n",
       "  if (element == null) {\n",
       "    console.log(\"Bokeh: ERROR: autoload.js configured with elementid '8b70c56f-05fe-46fc-bab0-ed9c630c67cf' but no matching script tag was found. \")\n",
       "    return false;\n",
       "  }\n",
       "\n",
       "  var js_urls = [\"https://cdn.pydata.org/bokeh/release/bokeh-0.12.7.min.js\", \"https://cdn.pydata.org/bokeh/release/bokeh-widgets-0.12.7.min.js\", \"https://cdn.pydata.org/bokeh/release/bokeh-tables-0.12.7.min.js\", \"https://cdn.pydata.org/bokeh/release/bokeh-gl-0.12.7.min.js\"];\n",
       "\n",
       "  var inline_js = [\n",
       "    function(Bokeh) {\n",
       "      Bokeh.set_log_level(\"info\");\n",
       "    },\n",
       "    \n",
       "    function(Bokeh) {\n",
       "      \n",
       "    },\n",
       "    \n",
       "    function(Bokeh) {\n",
       "      \n",
       "      document.getElementById(\"8b70c56f-05fe-46fc-bab0-ed9c630c67cf\").textContent = \"BokehJS is loading...\";\n",
       "    },\n",
       "    function(Bokeh) {\n",
       "      console.log(\"Bokeh: injecting CSS: https://cdn.pydata.org/bokeh/release/bokeh-0.12.7.min.css\");\n",
       "      Bokeh.embed.inject_css(\"https://cdn.pydata.org/bokeh/release/bokeh-0.12.7.min.css\");\n",
       "      console.log(\"Bokeh: injecting CSS: https://cdn.pydata.org/bokeh/release/bokeh-widgets-0.12.7.min.css\");\n",
       "      Bokeh.embed.inject_css(\"https://cdn.pydata.org/bokeh/release/bokeh-widgets-0.12.7.min.css\");\n",
       "      console.log(\"Bokeh: injecting CSS: https://cdn.pydata.org/bokeh/release/bokeh-tables-0.12.7.min.css\");\n",
       "      Bokeh.embed.inject_css(\"https://cdn.pydata.org/bokeh/release/bokeh-tables-0.12.7.min.css\");\n",
       "    }\n",
       "  ];\n",
       "\n",
       "  function run_inline_js() {\n",
       "    \n",
       "    if ((root.Bokeh !== undefined) || (force === true)) {\n",
       "      for (var i = 0; i < inline_js.length; i++) {\n",
       "        inline_js[i].call(root, root.Bokeh);\n",
       "      }if (force === true) {\n",
       "        display_loaded();\n",
       "      }} else if (Date.now() < root._bokeh_timeout) {\n",
       "      setTimeout(run_inline_js, 100);\n",
       "    } else if (!root._bokeh_failed_load) {\n",
       "      console.log(\"Bokeh: BokehJS failed to load within specified timeout.\");\n",
       "      root._bokeh_failed_load = true;\n",
       "    } else if (force !== true) {\n",
       "      var cell = $(document.getElementById(\"8b70c56f-05fe-46fc-bab0-ed9c630c67cf\")).parents('.cell').data().cell;\n",
       "      cell.output_area.append_execute_result(NB_LOAD_WARNING)\n",
       "    }\n",
       "\n",
       "  }\n",
       "\n",
       "  if (root._bokeh_is_loading === 0) {\n",
       "    console.log(\"Bokeh: BokehJS loaded, going straight to plotting\");\n",
       "    run_inline_js();\n",
       "  } else {\n",
       "    load_libs(js_urls, function() {\n",
       "      console.log(\"Bokeh: BokehJS plotting callback run at\", now());\n",
       "      run_inline_js();\n",
       "    });\n",
       "  }\n",
       "}(window));"
      ]
     },
     "metadata": {},
     "output_type": "display_data"
    }
   ],
   "source": [
    "import bokeh\n",
    "from bokeh.plotting import figure, show, output_notebook, output_file\n",
    "\n",
    "from IPython.display import Image, HTML, Javascript\n",
    "from coffeetools import coffee\n",
    "output_notebook()"
   ]
  },
  {
   "cell_type": "code",
   "execution_count": 61,
   "metadata": {},
   "outputs": [
    {
     "data": {
      "text/plain": [
       "array([[[161, 149, 122],\n",
       "        [170, 154, 122],\n",
       "        [165, 151, 123]],\n",
       "\n",
       "       [[156, 130, 106],\n",
       "        [162, 130, 101],\n",
       "        [159, 131, 105]],\n",
       "\n",
       "       [[122,  98,  99],\n",
       "        [121,  91,  89],\n",
       "        [122,  95,  94]]], dtype=uint8)"
      ]
     },
     "execution_count": 61,
     "metadata": {},
     "output_type": "execute_result"
    }
   ],
   "source": [
    "ww = cnn.get_weights()[0]\n",
    "ww_im=deprocess_image(ww[:,:,:,0].reshape(-1,3,3))\n",
    "ww_im"
   ]
  },
  {
   "cell_type": "code",
   "execution_count": 63,
   "metadata": {},
   "outputs": [
    {
     "data": {
      "text/plain": [
       "array([[[ 0.63240981,  0.66972482,  0.648009  ],\n",
       "        [ 0.61512595,  0.63568246,  0.62595248],\n",
       "        [ 0.48092937,  0.47474867,  0.47976112]],\n",
       "\n",
       "       [[ 0.58466601,  0.60656857,  0.59568602],\n",
       "        [ 0.51180404,  0.51240629,  0.51535988],\n",
       "        [ 0.38653371,  0.35990655,  0.37537396]],\n",
       "\n",
       "       [[ 0.48213053,  0.48177043,  0.48416632],\n",
       "        [ 0.41893074,  0.39781493,  0.41183931],\n",
       "        [ 0.3918193 ,  0.3501761 ,  0.37070364]]], dtype=float32)"
      ]
     },
     "execution_count": 63,
     "metadata": {},
     "output_type": "execute_result"
    }
   ],
   "source": [
    "ww[:,:,:,0]"
   ]
  },
  {
   "cell_type": "code",
   "execution_count": 68,
   "metadata": {},
   "outputs": [],
   "source": [
    "i=0\n",
    "layer_i = cnn.get_weights()[i]\n",
    "filters = [deprocess_image(layer_i[:,:,:,j].reshape(-1,3,3)) for j in range(layer_i.shape[3])]\n",
    "xc = np.meshgrid(range(8),range(8))[0].ravel().tolist()\n",
    "yc = np.meshgrid(range(8),range(8))[1].ravel().tolist()"
   ]
  },
  {
   "cell_type": "code",
   "execution_count": 70,
   "metadata": {},
   "outputs": [
    {
     "data": {
      "text/html": [
       "\n",
       "    <div class=\"bk-root\">\n",
       "        <a href=\"https://bokeh.pydata.org\" target=\"_blank\" class=\"bk-logo bk-logo-small bk-logo-notebook\"></a>\n",
       "        <span id=\"c27ee08b-452d-499c-9a4b-99f0a10f843a\">Loading BokehJS ...</span>\n",
       "    </div>"
      ]
     },
     "metadata": {},
     "output_type": "display_data"
    },
    {
     "data": {
      "application/javascript": [
       "\n",
       "(function(root) {\n",
       "  function now() {\n",
       "    return new Date();\n",
       "  }\n",
       "\n",
       "  var force = true;\n",
       "\n",
       "  if (typeof (root._bokeh_onload_callbacks) === \"undefined\" || force === true) {\n",
       "    root._bokeh_onload_callbacks = [];\n",
       "    root._bokeh_is_loading = undefined;\n",
       "  }\n",
       "\n",
       "\n",
       "  \n",
       "  if (typeof (root._bokeh_timeout) === \"undefined\" || force === true) {\n",
       "    root._bokeh_timeout = Date.now() + 5000;\n",
       "    root._bokeh_failed_load = false;\n",
       "  }\n",
       "\n",
       "  var NB_LOAD_WARNING = {'data': {'text/html':\n",
       "     \"<div style='background-color: #fdd'>\\n\"+\n",
       "     \"<p>\\n\"+\n",
       "     \"BokehJS does not appear to have successfully loaded. If loading BokehJS from CDN, this \\n\"+\n",
       "     \"may be due to a slow or bad network connection. Possible fixes:\\n\"+\n",
       "     \"</p>\\n\"+\n",
       "     \"<ul>\\n\"+\n",
       "     \"<li>re-rerun `output_notebook()` to attempt to load from CDN again, or</li>\\n\"+\n",
       "     \"<li>use INLINE resources instead, as so:</li>\\n\"+\n",
       "     \"</ul>\\n\"+\n",
       "     \"<code>\\n\"+\n",
       "     \"from bokeh.resources import INLINE\\n\"+\n",
       "     \"output_notebook(resources=INLINE)\\n\"+\n",
       "     \"</code>\\n\"+\n",
       "     \"</div>\"}};\n",
       "\n",
       "  function display_loaded() {\n",
       "    if (root.Bokeh !== undefined) {\n",
       "      var el = document.getElementById(\"c27ee08b-452d-499c-9a4b-99f0a10f843a\");\n",
       "      if (el != null) {\n",
       "        el.textContent = \"BokehJS \" + Bokeh.version + \" successfully loaded.\";\n",
       "      }\n",
       "    } else if (Date.now() < root._bokeh_timeout) {\n",
       "      setTimeout(display_loaded, 100)\n",
       "    }\n",
       "  }\n",
       "\n",
       "\n",
       "  function run_callbacks() {\n",
       "    try {\n",
       "      root._bokeh_onload_callbacks.forEach(function(callback) { callback() });\n",
       "    }\n",
       "    finally {\n",
       "      delete root._bokeh_onload_callbacks\n",
       "    }\n",
       "    console.info(\"Bokeh: all callbacks have finished\");\n",
       "  }\n",
       "\n",
       "  function load_libs(js_urls, callback) {\n",
       "    root._bokeh_onload_callbacks.push(callback);\n",
       "    if (root._bokeh_is_loading > 0) {\n",
       "      console.log(\"Bokeh: BokehJS is being loaded, scheduling callback at\", now());\n",
       "      return null;\n",
       "    }\n",
       "    if (js_urls == null || js_urls.length === 0) {\n",
       "      run_callbacks();\n",
       "      return null;\n",
       "    }\n",
       "    console.log(\"Bokeh: BokehJS not loaded, scheduling load and callback at\", now());\n",
       "    root._bokeh_is_loading = js_urls.length;\n",
       "    for (var i = 0; i < js_urls.length; i++) {\n",
       "      var url = js_urls[i];\n",
       "      var s = document.createElement('script');\n",
       "      s.src = url;\n",
       "      s.async = false;\n",
       "      s.onreadystatechange = s.onload = function() {\n",
       "        root._bokeh_is_loading--;\n",
       "        if (root._bokeh_is_loading === 0) {\n",
       "          console.log(\"Bokeh: all BokehJS libraries loaded\");\n",
       "          run_callbacks()\n",
       "        }\n",
       "      };\n",
       "      s.onerror = function() {\n",
       "        console.warn(\"failed to load library \" + url);\n",
       "      };\n",
       "      console.log(\"Bokeh: injecting script tag for BokehJS library: \", url);\n",
       "      document.getElementsByTagName(\"head\")[0].appendChild(s);\n",
       "    }\n",
       "  };var element = document.getElementById(\"c27ee08b-452d-499c-9a4b-99f0a10f843a\");\n",
       "  if (element == null) {\n",
       "    console.log(\"Bokeh: ERROR: autoload.js configured with elementid 'c27ee08b-452d-499c-9a4b-99f0a10f843a' but no matching script tag was found. \")\n",
       "    return false;\n",
       "  }\n",
       "\n",
       "  var js_urls = [\"https://cdn.pydata.org/bokeh/release/bokeh-0.12.7.min.js\", \"https://cdn.pydata.org/bokeh/release/bokeh-widgets-0.12.7.min.js\", \"https://cdn.pydata.org/bokeh/release/bokeh-tables-0.12.7.min.js\", \"https://cdn.pydata.org/bokeh/release/bokeh-gl-0.12.7.min.js\"];\n",
       "\n",
       "  var inline_js = [\n",
       "    function(Bokeh) {\n",
       "      Bokeh.set_log_level(\"info\");\n",
       "    },\n",
       "    \n",
       "    function(Bokeh) {\n",
       "      \n",
       "    },\n",
       "    \n",
       "    function(Bokeh) {\n",
       "      \n",
       "      document.getElementById(\"c27ee08b-452d-499c-9a4b-99f0a10f843a\").textContent = \"BokehJS is loading...\";\n",
       "    },\n",
       "    function(Bokeh) {\n",
       "      console.log(\"Bokeh: injecting CSS: https://cdn.pydata.org/bokeh/release/bokeh-0.12.7.min.css\");\n",
       "      Bokeh.embed.inject_css(\"https://cdn.pydata.org/bokeh/release/bokeh-0.12.7.min.css\");\n",
       "      console.log(\"Bokeh: injecting CSS: https://cdn.pydata.org/bokeh/release/bokeh-widgets-0.12.7.min.css\");\n",
       "      Bokeh.embed.inject_css(\"https://cdn.pydata.org/bokeh/release/bokeh-widgets-0.12.7.min.css\");\n",
       "      console.log(\"Bokeh: injecting CSS: https://cdn.pydata.org/bokeh/release/bokeh-tables-0.12.7.min.css\");\n",
       "      Bokeh.embed.inject_css(\"https://cdn.pydata.org/bokeh/release/bokeh-tables-0.12.7.min.css\");\n",
       "    }\n",
       "  ];\n",
       "\n",
       "  function run_inline_js() {\n",
       "    \n",
       "    if ((root.Bokeh !== undefined) || (force === true)) {\n",
       "      for (var i = 0; i < inline_js.length; i++) {\n",
       "        inline_js[i].call(root, root.Bokeh);\n",
       "      }if (force === true) {\n",
       "        display_loaded();\n",
       "      }} else if (Date.now() < root._bokeh_timeout) {\n",
       "      setTimeout(run_inline_js, 100);\n",
       "    } else if (!root._bokeh_failed_load) {\n",
       "      console.log(\"Bokeh: BokehJS failed to load within specified timeout.\");\n",
       "      root._bokeh_failed_load = true;\n",
       "    } else if (force !== true) {\n",
       "      var cell = $(document.getElementById(\"c27ee08b-452d-499c-9a4b-99f0a10f843a\")).parents('.cell').data().cell;\n",
       "      cell.output_area.append_execute_result(NB_LOAD_WARNING)\n",
       "    }\n",
       "\n",
       "  }\n",
       "\n",
       "  if (root._bokeh_is_loading === 0) {\n",
       "    console.log(\"Bokeh: BokehJS loaded, going straight to plotting\");\n",
       "    run_inline_js();\n",
       "  } else {\n",
       "    load_libs(js_urls, function() {\n",
       "      console.log(\"Bokeh: BokehJS plotting callback run at\", now());\n",
       "      run_inline_js();\n",
       "    });\n",
       "  }\n",
       "}(window));"
      ]
     },
     "metadata": {},
     "output_type": "display_data"
    },
    {
     "data": {
      "text/html": [
       "\n",
       "\n",
       "    <div class=\"bk-root\">\n",
       "        <div class=\"bk-plotdiv\" id=\"6435f9a8-dacb-4b3d-b1ec-0016f23b8a19\"></div>\n",
       "    </div>\n",
       "<script type=\"text/javascript\">\n",
       "  \n",
       "  (function(root) {\n",
       "    function now() {\n",
       "      return new Date();\n",
       "    }\n",
       "  \n",
       "    var force = false;\n",
       "  \n",
       "    if (typeof (root._bokeh_onload_callbacks) === \"undefined\" || force === true) {\n",
       "      root._bokeh_onload_callbacks = [];\n",
       "      root._bokeh_is_loading = undefined;\n",
       "    }\n",
       "  \n",
       "  \n",
       "    \n",
       "    if (typeof (root._bokeh_timeout) === \"undefined\" || force === true) {\n",
       "      root._bokeh_timeout = Date.now() + 0;\n",
       "      root._bokeh_failed_load = false;\n",
       "    }\n",
       "  \n",
       "    var NB_LOAD_WARNING = {'data': {'text/html':\n",
       "       \"<div style='background-color: #fdd'>\\n\"+\n",
       "       \"<p>\\n\"+\n",
       "       \"BokehJS does not appear to have successfully loaded. If loading BokehJS from CDN, this \\n\"+\n",
       "       \"may be due to a slow or bad network connection. Possible fixes:\\n\"+\n",
       "       \"</p>\\n\"+\n",
       "       \"<ul>\\n\"+\n",
       "       \"<li>re-rerun `output_notebook()` to attempt to load from CDN again, or</li>\\n\"+\n",
       "       \"<li>use INLINE resources instead, as so:</li>\\n\"+\n",
       "       \"</ul>\\n\"+\n",
       "       \"<code>\\n\"+\n",
       "       \"from bokeh.resources import INLINE\\n\"+\n",
       "       \"output_notebook(resources=INLINE)\\n\"+\n",
       "       \"</code>\\n\"+\n",
       "       \"</div>\"}};\n",
       "  \n",
       "    function display_loaded() {\n",
       "      if (root.Bokeh !== undefined) {\n",
       "        var el = document.getElementById(\"6435f9a8-dacb-4b3d-b1ec-0016f23b8a19\");\n",
       "        if (el != null) {\n",
       "          el.textContent = \"BokehJS \" + Bokeh.version + \" successfully loaded.\";\n",
       "        }\n",
       "      } else if (Date.now() < root._bokeh_timeout) {\n",
       "        setTimeout(display_loaded, 100)\n",
       "      }\n",
       "    }\n",
       "  \n",
       "  \n",
       "    function run_callbacks() {\n",
       "      try {\n",
       "        root._bokeh_onload_callbacks.forEach(function(callback) { callback() });\n",
       "      }\n",
       "      finally {\n",
       "        delete root._bokeh_onload_callbacks\n",
       "      }\n",
       "      console.info(\"Bokeh: all callbacks have finished\");\n",
       "    }\n",
       "  \n",
       "    function load_libs(js_urls, callback) {\n",
       "      root._bokeh_onload_callbacks.push(callback);\n",
       "      if (root._bokeh_is_loading > 0) {\n",
       "        console.log(\"Bokeh: BokehJS is being loaded, scheduling callback at\", now());\n",
       "        return null;\n",
       "      }\n",
       "      if (js_urls == null || js_urls.length === 0) {\n",
       "        run_callbacks();\n",
       "        return null;\n",
       "      }\n",
       "      console.log(\"Bokeh: BokehJS not loaded, scheduling load and callback at\", now());\n",
       "      root._bokeh_is_loading = js_urls.length;\n",
       "      for (var i = 0; i < js_urls.length; i++) {\n",
       "        var url = js_urls[i];\n",
       "        var s = document.createElement('script');\n",
       "        s.src = url;\n",
       "        s.async = false;\n",
       "        s.onreadystatechange = s.onload = function() {\n",
       "          root._bokeh_is_loading--;\n",
       "          if (root._bokeh_is_loading === 0) {\n",
       "            console.log(\"Bokeh: all BokehJS libraries loaded\");\n",
       "            run_callbacks()\n",
       "          }\n",
       "        };\n",
       "        s.onerror = function() {\n",
       "          console.warn(\"failed to load library \" + url);\n",
       "        };\n",
       "        console.log(\"Bokeh: injecting script tag for BokehJS library: \", url);\n",
       "        document.getElementsByTagName(\"head\")[0].appendChild(s);\n",
       "      }\n",
       "    };var element = document.getElementById(\"6435f9a8-dacb-4b3d-b1ec-0016f23b8a19\");\n",
       "    if (element == null) {\n",
       "      console.log(\"Bokeh: ERROR: autoload.js configured with elementid '6435f9a8-dacb-4b3d-b1ec-0016f23b8a19' but no matching script tag was found. \")\n",
       "      return false;\n",
       "    }\n",
       "  \n",
       "    var js_urls = [];\n",
       "  \n",
       "    var inline_js = [\n",
       "      function(Bokeh) {\n",
       "        (function() {\n",
       "          var fn = function() {\n",
       "            var docs_json = {\"09b84ed4-81f5-483f-b63c-200fa8da93da\":{\"roots\":{\"references\":[{\"attributes\":{\"plot\":{\"id\":\"6f06fc42-76d8-41e8-8689-df5a1af8d4d7\",\"subtype\":\"Figure\",\"type\":\"Plot\"},\"ticker\":{\"id\":\"333d30c3-f60a-41c8-a5c8-08ec477dd96a\",\"type\":\"BasicTicker\"}},\"id\":\"f8398f2c-6910-4916-b8bf-47221d91d8f2\",\"type\":\"Grid\"},{\"attributes\":{\"data_source\":{\"id\":\"7c0a1d72-c03f-498c-8cea-34c6a64a758c\",\"type\":\"ColumnDataSource\"},\"glyph\":{\"id\":\"b717c6e1-5373-4678-99db-fd01299c15f1\",\"type\":\"ImageRGBA\"},\"hover_glyph\":null,\"muted_glyph\":null,\"nonselection_glyph\":{\"id\":\"b2d03ae8-fe77-4228-8119-311b815c8b48\",\"type\":\"ImageRGBA\"},\"selection_glyph\":null,\"view\":{\"id\":\"9ef81a9d-7a7f-4241-b53f-25f0d7201181\",\"type\":\"CDSView\"}},\"id\":\"b1daf72b-5b83-4a60-88f1-734b9a0d4df4\",\"type\":\"GlyphRenderer\"},{\"attributes\":{\"dh\":{\"units\":\"data\",\"value\":1},\"dw\":{\"units\":\"data\",\"value\":1},\"image\":{\"field\":\"image\"},\"x\":{\"field\":\"x\"},\"y\":{\"field\":\"y\"}},\"id\":\"b717c6e1-5373-4678-99db-fd01299c15f1\",\"type\":\"ImageRGBA\"},{\"attributes\":{\"formatter\":{\"id\":\"1377eea8-b530-429e-8dc2-0724dcb272be\",\"type\":\"BasicTickFormatter\"},\"plot\":{\"id\":\"6f06fc42-76d8-41e8-8689-df5a1af8d4d7\",\"subtype\":\"Figure\",\"type\":\"Plot\"},\"ticker\":{\"id\":\"333d30c3-f60a-41c8-a5c8-08ec477dd96a\",\"type\":\"BasicTicker\"}},\"id\":\"cfcb9b7a-ec78-41de-bb27-d8a6c0a8a351\",\"type\":\"LinearAxis\"},{\"attributes\":{},\"id\":\"333d30c3-f60a-41c8-a5c8-08ec477dd96a\",\"type\":\"BasicTicker\"},{\"attributes\":{\"formatter\":{\"id\":\"98d2bc0c-31e4-4ada-9a6e-21b4c6115ebe\",\"type\":\"BasicTickFormatter\"},\"plot\":{\"id\":\"6f06fc42-76d8-41e8-8689-df5a1af8d4d7\",\"subtype\":\"Figure\",\"type\":\"Plot\"},\"ticker\":{\"id\":\"95bcbd2a-6953-4bfc-9b2b-6c46868f349d\",\"type\":\"BasicTicker\"}},\"id\":\"679cc656-4e0c-4425-8938-8955d6e82aa2\",\"type\":\"LinearAxis\"},{\"attributes\":{},\"id\":\"95bcbd2a-6953-4bfc-9b2b-6c46868f349d\",\"type\":\"BasicTicker\"},{\"attributes\":{},\"id\":\"1377eea8-b530-429e-8dc2-0724dcb272be\",\"type\":\"BasicTickFormatter\"},{\"attributes\":{\"dimension\":1,\"plot\":{\"id\":\"6f06fc42-76d8-41e8-8689-df5a1af8d4d7\",\"subtype\":\"Figure\",\"type\":\"Plot\"},\"ticker\":{\"id\":\"95bcbd2a-6953-4bfc-9b2b-6c46868f349d\",\"type\":\"BasicTicker\"}},\"id\":\"6ef959cf-ca66-4102-bc46-1607faa799e3\",\"type\":\"Grid\"},{\"attributes\":{\"dh\":{\"units\":\"data\",\"value\":1},\"dw\":{\"units\":\"data\",\"value\":1},\"image\":{\"field\":\"image\"},\"x\":{\"field\":\"x\"},\"y\":{\"field\":\"y\"}},\"id\":\"b2d03ae8-fe77-4228-8119-311b815c8b48\",\"type\":\"ImageRGBA\"},{\"attributes\":{\"callback\":null},\"id\":\"9ba84a6d-f98f-4a61-acc2-bb67a9b922bf\",\"type\":\"DataRange1d\"},{\"attributes\":{\"plot\":null,\"text\":\"\"},\"id\":\"5ba10235-b05b-4d25-86ad-1457fe6cf027\",\"type\":\"Title\"},{\"attributes\":{},\"id\":\"98d2bc0c-31e4-4ada-9a6e-21b4c6115ebe\",\"type\":\"BasicTickFormatter\"},{\"attributes\":{\"source\":{\"id\":\"7c0a1d72-c03f-498c-8cea-34c6a64a758c\",\"type\":\"ColumnDataSource\"}},\"id\":\"9ef81a9d-7a7f-4241-b53f-25f0d7201181\",\"type\":\"CDSView\"},{\"attributes\":{},\"id\":\"13be0e47-b9d6-4a19-ab85-fe0cb1a61dfa\",\"type\":\"ResetTool\"},{\"attributes\":{},\"id\":\"53b4f964-0ee4-4d05-ad00-c8d1958076a3\",\"type\":\"HelpTool\"},{\"attributes\":{\"bottom_units\":\"screen\",\"fill_alpha\":{\"value\":0.5},\"fill_color\":{\"value\":\"lightgrey\"},\"left_units\":\"screen\",\"level\":\"overlay\",\"line_alpha\":{\"value\":1.0},\"line_color\":{\"value\":\"black\"},\"line_dash\":[4,4],\"line_width\":{\"value\":2},\"plot\":null,\"render_mode\":\"css\",\"right_units\":\"screen\",\"top_units\":\"screen\"},\"id\":\"c5362b5c-b792-4dc6-ab02-6d3926e77a4c\",\"type\":\"BoxAnnotation\"},{\"attributes\":{\"below\":[{\"id\":\"cfcb9b7a-ec78-41de-bb27-d8a6c0a8a351\",\"type\":\"LinearAxis\"}],\"left\":[{\"id\":\"679cc656-4e0c-4425-8938-8955d6e82aa2\",\"type\":\"LinearAxis\"}],\"renderers\":[{\"id\":\"cfcb9b7a-ec78-41de-bb27-d8a6c0a8a351\",\"type\":\"LinearAxis\"},{\"id\":\"f8398f2c-6910-4916-b8bf-47221d91d8f2\",\"type\":\"Grid\"},{\"id\":\"679cc656-4e0c-4425-8938-8955d6e82aa2\",\"type\":\"LinearAxis\"},{\"id\":\"6ef959cf-ca66-4102-bc46-1607faa799e3\",\"type\":\"Grid\"},{\"id\":\"c5362b5c-b792-4dc6-ab02-6d3926e77a4c\",\"type\":\"BoxAnnotation\"},{\"id\":\"b1daf72b-5b83-4a60-88f1-734b9a0d4df4\",\"type\":\"GlyphRenderer\"}],\"title\":{\"id\":\"5ba10235-b05b-4d25-86ad-1457fe6cf027\",\"type\":\"Title\"},\"toolbar\":{\"id\":\"e28167af-a4d3-4193-9e3e-241c52f0befc\",\"type\":\"Toolbar\"},\"x_range\":{\"id\":\"9ba84a6d-f98f-4a61-acc2-bb67a9b922bf\",\"type\":\"DataRange1d\"},\"x_scale\":{\"id\":\"ba63e77d-04af-4d4c-a50c-0c229e06d980\",\"type\":\"LinearScale\"},\"y_range\":{\"id\":\"0cfa9f18-7d57-4b3e-9e0f-dde22baa4543\",\"type\":\"DataRange1d\"},\"y_scale\":{\"id\":\"1dc7ce8f-d16d-452f-a328-81fbc54d068d\",\"type\":\"LinearScale\"}},\"id\":\"6f06fc42-76d8-41e8-8689-df5a1af8d4d7\",\"subtype\":\"Figure\",\"type\":\"Plot\"},{\"attributes\":{},\"id\":\"818525c1-5060-4b08-8ecb-035f6162830a\",\"type\":\"PanTool\"},{\"attributes\":{\"callback\":null,\"column_names\":[\"image\",\"x\",\"y\"],\"data\":{\"image\":[{\"__ndarray__\":\"oZV6qpp6pZd7nIJqooJln4NpemJjeVtZel9e\",\"dtype\":\"uint8\",\"shape\":[3,3,3]},{\"__ndarray__\":\"lJqWgYODXVpenKSehoqIXVxel5yYhYaFYFxg\",\"dtype\":\"uint8\",\"shape\":[3,3,3]},{\"__ndarray__\":\"g6B+krKMhKF/fJ97h62Gep15YWdfZGxiXGJZ\",\"dtype\":\"uint8\",\"shape\":[3,3,3]},{\"__ndarray__\":\"nod/pYd7ooh9l2Bcm1pTml1XmXtynXdrnXpu\",\"dtype\":\"uint8\",\"shape\":[3,3,3]},{\"__ndarray__\":\"c2ZfcGBTdGdal5Vsnplon55vlJNxnppwnZx2\",\"dtype\":\"uint8\",\"shape\":[3,3,3]},{\"__ndarray__\":\"oKOfZmRmend6oaWkYmBldXJ5oKGeZ2JmenV6\",\"dtype\":\"uint8\",\"shape\":[3,3,3]},{\"__ndarray__\":\"i5qbkaSpi5uhanWRaHeZZHGSYWOAWV6DWFyA\",\"dtype\":\"uint8\",\"shape\":[3,3,3]},{\"__ndarray__\":\"hmBgjF1WkmdfkmpkoHBip3ttkIaApJSHqJyO\",\"dtype\":\"uint8\",\"shape\":[3,3,3]},{\"__ndarray__\":\"j42MXlxdk5eUi4mNWVZdlJiajouLXltclJeU\",\"dtype\":\"uint8\",\"shape\":[3,3,3]},{\"__ndarray__\":\"hZqoZXySYnWLdZCqUm6QTWWHgpqoYnuRX3SK\",\"dtype\":\"uint8\",\"shape\":[3,3,3]},{\"__ndarray__\":\"hn9ji4BciX9eo6Joq6ViqKNlgnxjh3xbhnxe\",\"dtype\":\"uint8\",\"shape\":[3,3,3]},{\"__ndarray__\":\"cWZbh3dlcWFSkY5nsap5lo9ih4ZtqKWCjops\",\"dtype\":\"uint8\",\"shape\":[3,3,3]},{\"__ndarray__\":\"b3BtnaSeaGtpcHRuo6ykanBrb3Jun6agaW1p\",\"dtype\":\"uint8\",\"shape\":[3,3,3]},{\"__ndarray__\":\"iKOigp6iaYCGfJ2icZSdV3R/a3uGXm9/SVZo\",\"dtype\":\"uint8\",\"shape\":[3,3,3]},{\"__ndarray__\":\"eX2YdXygeH6fW1qRVFaYWFmYfIOceYSle4Wj\",\"dtype\":\"uint8\",\"shape\":[3,3,3]},{\"__ndarray__\":\"mI+TZ1pfmY+QlYSQYUtZl4WOlI2UYVdgk42Q\",\"dtype\":\"uint8\",\"shape\":[3,3,3]},{\"__ndarray__\":\"gHJycGlonaWidGVrZl5jnKSngXR0cGlom6Sh\",\"dtype\":\"uint8\",\"shape\":[3,3,3]},{\"__ndarray__\":\"io5vpKZ/kpNxkJRsp6l4lpZqbWJbem1fbV9U\",\"dtype\":\"uint8\",\"shape\":[3,3,3]},{\"__ndarray__\":\"mpyaYV9iiYqLlo+UWU5YhHyDm52aYmFii4yM\",\"dtype\":\"uint8\",\"shape\":[3,3,3]},{\"__ndarray__\":\"e3R4amltmqakcGdxYV5pmqaqe3N2aWhsmKSi\",\"dtype\":\"uint8\",\"shape\":[3,3,3]},{\"__ndarray__\":\"rKGQn457nYx8pop8k3BgkW9ikXVtfFpRflxW\",\"dtype\":\"uint8\",\"shape\":[3,3,3]},{\"__ndarray__\":\"mYl/pY9+pZODoHdpp3ZhqX1ohmRlhVtViGJc\",\"dtype\":\"uint8\",\"shape\":[3,3,3]},{\"__ndarray__\":\"nqCdf3t9aGBmn6GjenV9X1Zhn5+ff3l+aF5m\",\"dtype\":\"uint8\",\"shape\":[3,3,3]},{\"__ndarray__\":\"bHeSTVh6X2qKc3+cVWOFZ3OUkqKpe4yYipql\",\"dtype\":\"uint8\",\"shape\":[3,3,3]},{\"__ndarray__\":\"jpiNprGmeH93goiElpyZZmlpb2tvfnl/VU1W\",\"dtype\":\"uint8\",\"shape\":[3,3,3]},{\"__ndarray__\":\"jJGJkJSOXVtakZeQlJiTXFpajZKKkpaPXlxa\",\"dtype\":\"uint8\",\"shape\":[3,3,3]},{\"__ndarray__\":\"e5CYeJWleJSiW3WWUXWfVHadZXePWXOVW3SU\",\"dtype\":\"uint8\",\"shape\":[3,3,3]},{\"__ndarray__\":\"Xl9dk5qPd391YGlfoLCbhZaCX2JemaOVf4l7\",\"dtype\":\"uint8\",\"shape\":[3,3,3]},{\"__ndarray__\":\"fF96elh3fV16fVd5flR6gFd7nJSYppyhpJuf\",\"dtype\":\"uint8\",\"shape\":[3,3,3]},{\"__ndarray__\":\"YGBmgH52pqiSY2JhhYNyr7GTZWRsfHlzmpmH\",\"dtype\":\"uint8\",\"shape\":[3,3,3]},{\"__ndarray__\":\"XG95V3B/U2h3ZpmaZqCmX5SacJORdJ2fbJGU\",\"dtype\":\"uint8\",\"shape\":[3,3,3]},{\"__ndarray__\":\"in+dh4KSlpKZbzF1dT1yi1R/hX+Zf36KjYyP\",\"dtype\":\"uint8\",\"shape\":[3,3,3]},{\"__ndarray__\":\"Y2tncnxzlKeTXnZncIx3nMChZWVlc3dxl6KS\",\"dtype\":\"uint8\",\"shape\":[3,3,3]},{\"__ndarray__\":\"fp6RY4R5fJyReq2gXJGGd6qfaXp8SVtgZHZ6\",\"dtype\":\"uint8\",\"shape\":[3,3,3]},{\"__ndarray__\":\"aIiIZIuPZoqNZqKhYaWoY6KlX3d/V3WBWnWB\",\"dtype\":\"uint8\",\"shape\":[3,3,3]},{\"__ndarray__\":\"YGZ0U15wVmBxbo6JapCOa4+MgqKSh62ehqma\",\"dtype\":\"uint8\",\"shape\":[3,3,3]},{\"__ndarray__\":\"kZSSj42PYFlfk5iVjY2OWVNakZSTkI6QX1lg\",\"dtype\":\"uint8\",\"shape\":[3,3,3]},{\"__ndarray__\":\"YnaDWXSFX3eFZpynYJ6uZqCsZX+KX4GQZYOQ\",\"dtype\":\"uint8\",\"shape\":[3,3,3]},{\"__ndarray__\":\"nIJwsZB5lXRipIBpt4tvmW5XiXFomHpsf2BX\",\"dtype\":\"uint8\",\"shape\":[3,3,3]},{\"__ndarray__\":\"pKmkcG9xgoGDlo+XW05dbmBwoaSfbGpsgHx+\",\"dtype\":\"uint8\",\"shape\":[3,3,3]},{\"__ndarray__\":\"Znx2j62oZ4B9ZoV8j7euZoiBXGhnf5KSWmhq\",\"dtype\":\"uint8\",\"shape\":[3,3,3]},{\"__ndarray__\":\"nn90kGpdmnZqoG9lkllMnGZapJOHmYN0oo2A\",\"dtype\":\"uint8\",\"shape\":[3,3,3]},{\"__ndarray__\":\"dmJidFxZdV5clIJrmINoloFooJx/qqOBpZ+A\",\"dtype\":\"uint8\",\"shape\":[3,3,3]},{\"__ndarray__\":\"lXp2on5yoH91lV5ZoV9Sn2FWmIB4pYR1ooR2\",\"dtype\":\"uint8\",\"shape\":[3,3,3]},{\"__ndarray__\":\"gZ6MkbKgd5SGdZiKgKeaZ4p/X2dqZG50UFhf\",\"dtype\":\"uint8\",\"shape\":[3,3,3]},{\"__ndarray__\":\"h2Nmhlxbh15flG1pmWtkl21mnpaJqZyLpZqL\",\"dtype\":\"uint8\",\"shape\":[3,3,3]},{\"__ndarray__\":\"a4h9dZ2Se6SXYpKHaqacdLCjWGNpV2xzYHZ7\",\"dtype\":\"uint8\",\"shape\":[3,3,3]},{\"__ndarray__\":\"YG+JVmuMWWyLX36cWH+kWn6heZGad5aleJSh\",\"dtype\":\"uint8\",\"shape\":[3,3,3]},{\"__ndarray__\":\"iJSKlKWcmKmfdH2HdYORfIqWYVlzVVBwXFl2\",\"dtype\":\"uint8\",\"shape\":[3,3,3]},{\"__ndarray__\":\"iW1weVZadVJYnIGAjm5thWVnq6SYpJmNm4+G\",\"dtype\":\"uint8\",\"shape\":[3,3,3]},{\"__ndarray__\":\"gISAmp2aX15egYiDnKKcXV5dgISBm56cYF5g\",\"dtype\":\"uint8\",\"shape\":[3,3,3]},{\"__ndarray__\":\"nJiUpZ+aop2Yim5+i2t8jG19d1hucUxkdFFo\",\"dtype\":\"uint8\",\"shape\":[3,3,3]},{\"__ndarray__\":\"im+AcVFgmX+HhWF2cEdbooCLkoiLg3Z3sKmi\",\"dtype\":\"uint8\",\"shape\":[3,3,3]},{\"__ndarray__\":\"Xmx/VW6JXXeQWG+EVnmWX4Kcf5KOhaOkiaem\",\"dtype\":\"uint8\",\"shape\":[3,3,3]},{\"__ndarray__\":\"jZ+ofJCehZilbXucVmaOYHCWanWSUV6CXWmM\",\"dtype\":\"uint8\",\"shape\":[3,3,3]},{\"__ndarray__\":\"Z2t4cHaHT1FkdYKJg5KdXGZzipyYnrKwdoaH\",\"dtype\":\"uint8\",\"shape\":[3,3,3]},{\"__ndarray__\":\"hml8a0lfgWJ2kG2AeFFmjmt9p5+bloyIp6Cb\",\"dtype\":\"uint8\",\"shape\":[3,3,3]},{\"__ndarray__\":\"p6GkkomQoZmejHGOcFFygmSEgWqFY0hodlx6\",\"dtype\":\"uint8\",\"shape\":[3,3,3]},{\"__ndarray__\":\"ZWVjXV5bYmJfe5h9e5p8fJp9iaiKj6+PjauM\",\"dtype\":\"uint8\",\"shape\":[3,3,3]},{\"__ndarray__\":\"YFlekJSRiZKNWlNYkZaTj5mTYVtfkJSRiZKN\",\"dtype\":\"uint8\",\"shape\":[3,3,3]},{\"__ndarray__\":\"YWduWGJsW2NtbI6IaZGMaY6KgaeVha+fg6qb\",\"dtype\":\"uint8\",\"shape\":[3,3,3]},{\"__ndarray__\":\"cHxpj5mCc4ZkZaV2hsWQdr5/amZiiYN5cXRf\",\"dtype\":\"uint8\",\"shape\":[3,3,3]},{\"__ndarray__\":\"ep6Ue6Sce6KZa5WUZpaYZ5WXX2hzVGFxV2Rz\",\"dtype\":\"uint8\",\"shape\":[3,3,3]},{\"__ndarray__\":\"f6GDgqiJgqaIeKSEeKiGe6mIYWdkWGJfXmdk\",\"dtype\":\"uint8\",\"shape\":[3,3,3]}],\"x\":[0,1,2,3,4,5,6,7,0,1,2,3,4,5,6,7,0,1,2,3,4,5,6,7,0,1,2,3,4,5,6,7,0,1,2,3,4,5,6,7,0,1,2,3,4,5,6,7,0,1,2,3,4,5,6,7,0,1,2,3,4,5,6,7],\"y\":[0,0,0,0,0,0,0,0,1,1,1,1,1,1,1,1,2,2,2,2,2,2,2,2,3,3,3,3,3,3,3,3,4,4,4,4,4,4,4,4,5,5,5,5,5,5,5,5,6,6,6,6,6,6,6,6,7,7,7,7,7,7,7,7]}},\"id\":\"7c0a1d72-c03f-498c-8cea-34c6a64a758c\",\"type\":\"ColumnDataSource\"},{\"attributes\":{\"active_drag\":\"auto\",\"active_inspect\":\"auto\",\"active_scroll\":\"auto\",\"active_tap\":\"auto\",\"tools\":[{\"id\":\"818525c1-5060-4b08-8ecb-035f6162830a\",\"type\":\"PanTool\"},{\"id\":\"8b85c1f3-8aa6-4d3a-b0b4-dca80097fa6c\",\"type\":\"WheelZoomTool\"},{\"id\":\"449a4847-f059-4e59-9f21-83bddde658a5\",\"type\":\"BoxZoomTool\"},{\"id\":\"62e8df1b-93a0-4e3a-9b14-a770249410c7\",\"type\":\"SaveTool\"},{\"id\":\"13be0e47-b9d6-4a19-ab85-fe0cb1a61dfa\",\"type\":\"ResetTool\"},{\"id\":\"53b4f964-0ee4-4d05-ad00-c8d1958076a3\",\"type\":\"HelpTool\"}]},\"id\":\"e28167af-a4d3-4193-9e3e-241c52f0befc\",\"type\":\"Toolbar\"},{\"attributes\":{\"overlay\":{\"id\":\"c5362b5c-b792-4dc6-ab02-6d3926e77a4c\",\"type\":\"BoxAnnotation\"}},\"id\":\"449a4847-f059-4e59-9f21-83bddde658a5\",\"type\":\"BoxZoomTool\"},{\"attributes\":{},\"id\":\"8b85c1f3-8aa6-4d3a-b0b4-dca80097fa6c\",\"type\":\"WheelZoomTool\"},{\"attributes\":{\"callback\":null},\"id\":\"0cfa9f18-7d57-4b3e-9e0f-dde22baa4543\",\"type\":\"DataRange1d\"},{\"attributes\":{},\"id\":\"ba63e77d-04af-4d4c-a50c-0c229e06d980\",\"type\":\"LinearScale\"},{\"attributes\":{},\"id\":\"62e8df1b-93a0-4e3a-9b14-a770249410c7\",\"type\":\"SaveTool\"},{\"attributes\":{},\"id\":\"1dc7ce8f-d16d-452f-a328-81fbc54d068d\",\"type\":\"LinearScale\"}],\"root_ids\":[\"6f06fc42-76d8-41e8-8689-df5a1af8d4d7\"]},\"title\":\"Bokeh Application\",\"version\":\"0.12.7\"}};\n",
       "            var render_items = [{\"docid\":\"09b84ed4-81f5-483f-b63c-200fa8da93da\",\"elementid\":\"6435f9a8-dacb-4b3d-b1ec-0016f23b8a19\",\"modelid\":\"6f06fc42-76d8-41e8-8689-df5a1af8d4d7\"}];\n",
       "            \n",
       "            Bokeh.embed.embed_items(docs_json, render_items);\n",
       "          };\n",
       "          if (document.readyState != \"loading\") fn();\n",
       "          else document.addEventListener(\"DOMContentLoaded\", fn);\n",
       "        })();\n",
       "      },\n",
       "      function(Bokeh) {\n",
       "      }\n",
       "    ];\n",
       "  \n",
       "    function run_inline_js() {\n",
       "      \n",
       "      if ((root.Bokeh !== undefined) || (force === true)) {\n",
       "        for (var i = 0; i < inline_js.length; i++) {\n",
       "          inline_js[i].call(root, root.Bokeh);\n",
       "        }if (force === true) {\n",
       "          display_loaded();\n",
       "        }} else if (Date.now() < root._bokeh_timeout) {\n",
       "        setTimeout(run_inline_js, 100);\n",
       "      } else if (!root._bokeh_failed_load) {\n",
       "        console.log(\"Bokeh: BokehJS failed to load within specified timeout.\");\n",
       "        root._bokeh_failed_load = true;\n",
       "      } else if (force !== true) {\n",
       "        var cell = $(document.getElementById(\"6435f9a8-dacb-4b3d-b1ec-0016f23b8a19\")).parents('.cell').data().cell;\n",
       "        cell.output_area.append_execute_result(NB_LOAD_WARNING)\n",
       "      }\n",
       "  \n",
       "    }\n",
       "  \n",
       "    if (root._bokeh_is_loading === 0) {\n",
       "      console.log(\"Bokeh: BokehJS loaded, going straight to plotting\");\n",
       "      run_inline_js();\n",
       "    } else {\n",
       "      load_libs(js_urls, function() {\n",
       "        console.log(\"Bokeh: BokehJS plotting callback run at\", now());\n",
       "        run_inline_js();\n",
       "      });\n",
       "    }\n",
       "  }(window));\n",
       "</script>"
      ]
     },
     "metadata": {},
     "output_type": "display_data"
    }
   ],
   "source": [
    "p=figure()\n",
    "p.image_rgba(filters,xc,yc,1,1)\n",
    "output_notebook()\n",
    "show(p)"
   ]
  },
  {
   "cell_type": "code",
   "execution_count": null,
   "metadata": {
    "collapsed": true
   },
   "outputs": [],
   "source": [
    "def filter_plot(layer, x_label='X', y_label='Y', plot_width=800, plot_height=600):\n",
    "    p=figure(responsive=False, x_axis_label=x_label, y_axis_label=y_label, width=plot_width, height=plot_height)\n",
    "    \n",
    "    x_range = df[x_col].max()-df[x_col].min()\n",
    "    y_range = df[y_col].max()-df[y_col].min()\n",
    "\n",
    "    cds = bokeh.models.ColumnDataSource(\n",
    "        df\n",
    "    )\n",
    "    # cds.data['volume_fraction'] = [ v*5 for v in cds.data['volume_fraction'] ]\n",
    "\n",
    "    circles = p.circle(\n",
    "        source=cds,\n",
    "        x=x_col,\n",
    "        y=y_col,\n",
    "        fill_color='color',\n",
    "        size='DotSize',\n",
    "        fill_alpha=.6\n",
    "    )\n",
    "\n",
    "    p.add_tools(\n",
    "        bokeh.models.HoverTool(\n",
    "            tooltips=[\n",
    "                ('S full', '@Sfull'),\n",
    "                ('Decay Length (nm)','@CorrLen'),\n",
    "                ('Image Size (um)','@ImageSize'),\n",
    "                ('Process','@Process')\n",
    "            ]\n",
    "        )\n",
    "    )\n",
    "\n",
    "    images = p.image_url(\n",
    "        source=cds,\n",
    "        x=x_col,\n",
    "        y=y_col,\n",
    "        w=x_range*0.02,\n",
    "        h=y_range*0.02*plot_width/plot_height,\n",
    "        url='file_url',\n",
    "        anchor='center',\n",
    "        global_alpha=.001\n",
    "    )\n",
    "\n",
    "    # mu = [.5]\n",
    "    # std = np.sqrt(-1*np.diff(mu)**2/(2*np.log(.2)))\n",
    "\n",
    "    p.x_range.callback = bokeh.models.CustomJS( args= {\n",
    "            'x_axis': p.x_range,\n",
    "            'y_axis': p.y_range,\n",
    "            'images': images.glyph,\n",
    "            'cds': cds,\n",
    "            'points': p.renderers[5].glyph\n",
    "        }, \n",
    "        code=coffee.compile(\"\"\"\n",
    "        ddata = Bokeh._.max(cds.get('data')[points.get('x').field]) - Bokeh._.min(cds.get('data')[points.get('x').field])\n",
    "        dx = x_axis.get('end') - x_axis.get('start')\n",
    "        if dx/ddata > .0001\n",
    "            images.set 'global_alpha', .001 + (.85)*Math.exp( -1*Math.pow(dx/ddata-.0001,2)/.014)\n",
    "        \"\"\",bare=True)\n",
    "    )\n",
    "    \n",
    "    # patches = []\n",
    "    # for c in df['class'].unique():\n",
    "    #     i = df.loc[df['class']==c].index.values\n",
    "    #     h = ConvexHull(df.iloc[i][['pca_x','pca_y']])\n",
    "    #     pp = p.patch(**{\n",
    "    #             'fill_color': df.iloc[i[0]].color,\n",
    "    #             'fill_alpha': .4,\n",
    "    #             'x': df.iloc[i].pca_x.values[h.vertices],\n",
    "    #             'y': df.iloc[i].pca_y.values[h.vertices],\n",
    "    #             'legend': c,\n",
    "    #         })\n",
    "\n",
    "    # gds=bokeh.models.ColumnDataSource(g)\n",
    "    # class_scale = p.oval( \n",
    "    #     source=gds, \n",
    "    #     x='pca_x.mean', \n",
    "    #     width='pca_x.std',\n",
    "    #     y='pca_y.mean',\n",
    "    #     height='pca_y.std',\n",
    "    #     fill_color='color.min',\n",
    "    #     fill_alpha = .6,\n",
    "    # )\n",
    "\n",
    "    # p.add_tools(\n",
    "    #     bokeh.models.TapTool( \n",
    "    #         renderers=[pp],\n",
    "    #         callback=bokeh.models.CustomJS(\n",
    "    #                 code=coffee.compile(\"\"\"\n",
    "    #                 console.log 'click'\n",
    "    #                 \"\"\",bare=True)\n",
    "    #             )\n",
    "    #     )\n",
    "    # )\n",
    "    return p"
   ]
  },
  {
   "cell_type": "code",
   "execution_count": 50,
   "metadata": {
    "collapsed": true
   },
   "outputs": [],
   "source": [
    "def deprocess_image(x):\n",
    "    # normalize tensor: center on 0., ensure std is 0.1\n",
    "    x -= x.mean()\n",
    "    x /= (x.std() + 1e-5)\n",
    "    x *= 0.1\n",
    "\n",
    "    # clip to [0, 1]\n",
    "    x += 0.5\n",
    "    x = np.clip(x, 0, 1)\n",
    "\n",
    "    # convert to RGB array\n",
    "    x *= 255\n",
    "    x = x.transpose((1, 2, 0))\n",
    "    x = np.clip(x, 0, 255).astype('uint8')\n",
    "    return x"
   ]
  },
  {
   "cell_type": "code",
   "execution_count": 13,
   "metadata": {},
   "outputs": [
    {
     "data": {
      "text/plain": [
       "array([[[ 0.42947057,  0.55037946,  0.4800154 ],\n",
       "        [ 0.373467  ,  0.44007453,  0.4085474 ],\n",
       "        [-0.06136011, -0.08138704, -0.06514555]],\n",
       "\n",
       "       [[ 0.27476987,  0.34573907,  0.31047726],\n",
       "        [ 0.03868078,  0.04063221,  0.05020237],\n",
       "        [-0.36722335, -0.45350131, -0.40338343]],\n",
       "\n",
       "       [[-0.05746817, -0.05863491, -0.05087169],\n",
       "        [-0.26224968, -0.33066967, -0.28522751],\n",
       "        [-0.35009676, -0.4850302 , -0.41851634]]], dtype=float32)"
      ]
     },
     "execution_count": 13,
     "metadata": {},
     "output_type": "execute_result"
    }
   ],
   "source": [
    "ww[0][:,:,:,0]"
   ]
  },
  {
   "cell_type": "code",
   "execution_count": null,
   "metadata": {},
   "outputs": [],
   "source": [
    "model = Model(input=cnn.input, output=cnn.get_layer('block4_conv3').output)"
   ]
  },
  {
   "cell_type": "code",
   "execution_count": null,
   "metadata": {},
   "outputs": [],
   "source": [
    "def image_tensor(image):\n",
    "    \"\"\" replicate a grayscale image onto the three channels of an RGB image\n",
    "        and reshape into a tensor appropriate for keras\n",
    "    \"\"\"\n",
    "    image3d = gray2rgb(image).astype(np.float32)\n",
    "    x = 255*image3d\n",
    "    x = np.expand_dims(x, axis=0)\n",
    "    return preprocess_input(x)"
   ]
  },
  {
   "cell_type": "code",
   "execution_count": null,
   "metadata": {},
   "outputs": [],
   "source": [
    "micrographs_json = './data/full/micrographs.json'\n",
    "# obtain a dataset\n",
    "with open(micrographs_json, 'r') as f:\n",
    "    micrograph_dataset = json.load(f)\n",
    "\n",
    "# work with sorted micrograph keys...\n",
    "keys = sorted(micrograph_dataset.keys())\n",
    "micrographs = [micrograph_dataset[key] for key in keys]\n",
    "micrographs = [io.load_image(m, barheight=38) for m in micrographs]\n"
   ]
  },
  {
   "cell_type": "code",
   "execution_count": null,
   "metadata": {},
   "outputs": [],
   "source": [
    "import pandas as pd\n",
    "afm_csv = '/Users/Imperssonator/CC/uhcs/data/afm3000/afm3000.csv'\n",
    "df_mg = pd.read_csv(afm_csv)\n",
    "df_mg = df_mg.set_index('id')"
   ]
  },
  {
   "cell_type": "code",
   "execution_count": null,
   "metadata": {},
   "outputs": [],
   "source": [
    "keys = df_mg['id'].tolist()\n",
    "micrographs = [io.load_image(file, barheight=0) for file in df_mg['imPath'].tolist()]"
   ]
  },
  {
   "cell_type": "code",
   "execution_count": null,
   "metadata": {},
   "outputs": [],
   "source": [
    "import matplotlib.pyplot as plt\n",
    "%matplotlib notebook\n",
    "%config InlineBackend.figure_format = 'retina'\n",
    "\n",
    "im_test = io.load_image(df_mg.loc[72].imPath, barheight=0)\n",
    "plt.imshow(im_test,cmap='gray')"
   ]
  },
  {
   "cell_type": "code",
   "execution_count": null,
   "metadata": {
    "collapsed": true
   },
   "outputs": [],
   "source": [
    "import h5py\n",
    "\n",
    "def load_representations(datafile):\n",
    "    # grab image representations from hdf5 file\n",
    "    keys, features = [], []\n",
    "\n",
    "    with h5py.File(datafile, 'r') as f:\n",
    "        for key in f:\n",
    "            keys.append(key)\n",
    "            features.append(f[key][...])\n",
    "\n",
    "    return np.array(keys), np.array(features)"
   ]
  },
  {
   "cell_type": "code",
   "execution_count": null,
   "metadata": {},
   "outputs": [],
   "source": [
    "from sklearn.externals import joblib\n",
    "dict_file='data/afm3000/dictionary/ssift-kmeans-100.pkl'\n",
    "dictionary = joblib.load(dict_file)"
   ]
  },
  {
   "cell_type": "code",
   "execution_count": null,
   "metadata": {},
   "outputs": [],
   "source": [
    "dictionary.cluster_centers_.shape"
   ]
  },
  {
   "cell_type": "code",
   "execution_count": null,
   "metadata": {},
   "outputs": [],
   "source": [
    "from mfeat import local\n",
    "sift_result = local.sparse_sift(im_test)\n",
    "sift_result.shape"
   ]
  },
  {
   "cell_type": "code",
   "execution_count": null,
   "metadata": {
    "collapsed": true
   },
   "outputs": [],
   "source": [
    "from mfeat import encode\n",
    "vlad_feats = encode.vlad(sift_result,dictionary)"
   ]
  },
  {
   "cell_type": "code",
   "execution_count": null,
   "metadata": {},
   "outputs": [],
   "source": [
    "vlad_feats.shape"
   ]
  },
  {
   "cell_type": "code",
   "execution_count": null,
   "metadata": {
    "collapsed": true
   },
   "outputs": [],
   "source": [
    "datafile='data/afm3000/features/ssift-vlad-100.h5'\n",
    "vlad_keys, vlad_feats = load_representations(datafile)\n",
    "vlad_ids = np.array([int(k) for k in vlad_keys])"
   ]
  },
  {
   "cell_type": "code",
   "execution_count": null,
   "metadata": {
    "collapsed": true
   },
   "outputs": [],
   "source": []
  },
  {
   "cell_type": "code",
   "execution_count": null,
   "metadata": {},
   "outputs": [],
   "source": [
    "%matplotlib inline\n",
    "test_feat=sift_feats[np.where(sift_ids==72)][0,:]\n",
    "x = np.array([i for i in range(test_feat.shape[0])])\n",
    "p1=plt.bar(x,test_feat)\n",
    "plt.show()"
   ]
  },
  {
   "cell_type": "code",
   "execution_count": null,
   "metadata": {
    "collapsed": true
   },
   "outputs": [],
   "source": [
    "cnn_feat = model.predict(image_tensor(im_test))"
   ]
  },
  {
   "cell_type": "code",
   "execution_count": null,
   "metadata": {},
   "outputs": [],
   "source": [
    "cnn_feat.shape"
   ]
  },
  {
   "cell_type": "code",
   "execution_count": null,
   "metadata": {
    "collapsed": true
   },
   "outputs": [],
   "source": [
    "from sklearn.externals import joblib\n",
    "cnn_dict_file='data/afm3000/dictionary/vgg16_block4_conv3-kmeans-32.pkl'\n",
    "cnn_dict = joblib.load(cnn_dict_file)"
   ]
  },
  {
   "cell_type": "code",
   "execution_count": null,
   "metadata": {},
   "outputs": [],
   "source": [
    "cnn_dict.cluster_centers_.shape"
   ]
  },
  {
   "cell_type": "code",
   "execution_count": null,
   "metadata": {
    "collapsed": true
   },
   "outputs": [],
   "source": [
    "keys = df_mg['id'].tolist()\n",
    "keys = [str(k) for k in keys]\n",
    "micrographs = [io.load_image(file, barheight=0) for file in df_mg['imPath'].tolist()]\n",
    "\n",
    "# set up paths\n",
    "dictionary_file = '{dir}/dictionary/{method}-kmeans-{n_clusters}.pkl'.format(**metadata)\n",
    "featurefile = '{dir}/features/{method}-{encoding}-{n_clusters}.h5'.format(**metadata)"
   ]
  },
  {
   "cell_type": "code",
   "execution_count": null,
   "metadata": {},
   "outputs": [],
   "source": [
    "datafile='data/afm3000/features/vgg16_block4_conv3-vlad-32.h5'\n",
    "cnn_keys, cnn_feats = load_representations(datafile)"
   ]
  },
  {
   "cell_type": "code",
   "execution_count": null,
   "metadata": {},
   "outputs": [],
   "source": [
    "cnn_feats.shape"
   ]
  },
  {
   "cell_type": "code",
   "execution_count": null,
   "metadata": {},
   "outputs": [],
   "source": [
    "features.shape"
   ]
  },
  {
   "cell_type": "code",
   "execution_count": null,
   "metadata": {},
   "outputs": [],
   "source": [
    "    ids = pd.Series([int(s) for s in keys])\n",
    "    df_mg = pd.read_csv('/Users/Imperssonator/CC/uhcs/data/afm3000/afm3000.csv')\n",
    "    which_ids = np.where(ids.apply(lambda x: x in df_mg.id.tolist()))[0]\n",
    "    keys_reduced = keys[which_ids]\n",
    "    ids_reduced = pd.Series([int(s) for s in keys_reduced])\n",
    "    features_reduced = features[which_ids,:]\n",
    "    df_mg = df_mg.set_index('id')\n",
    "    labels = np.array(df_mg['noise'].loc[ids_reduced.tolist()])"
   ]
  },
  {
   "cell_type": "code",
   "execution_count": null,
   "metadata": {},
   "outputs": [],
   "source": [
    "np.unique(labels)"
   ]
  },
  {
   "cell_type": "code",
   "execution_count": null,
   "metadata": {},
   "outputs": [],
   "source": [
    "np.where(df_mg['noise'].loc[ids_reduced.tolist()].apply(lambda x: type(x)!=str))"
   ]
  },
  {
   "cell_type": "code",
   "execution_count": null,
   "metadata": {},
   "outputs": [],
   "source": [
    "df_mg.iloc[1046]"
   ]
  },
  {
   "cell_type": "code",
   "execution_count": null,
   "metadata": {},
   "outputs": [],
   "source": [
    "labeltypes=[type(l) for l in labels]\n",
    "for i,l in enumerate(labeltypes):\n",
    "    if l != str:\n",
    "        print(i)"
   ]
  },
  {
   "cell_type": "code",
   "execution_count": null,
   "metadata": {},
   "outputs": [],
   "source": [
    "keys[np.array(ids.apply(lambda x: x in df_mg.id.tolist()))]"
   ]
  },
  {
   "cell_type": "code",
   "execution_count": null,
   "metadata": {},
   "outputs": [],
   "source": [
    "features[np.array(ids.apply(lambda x: x in df_mg.id.tolist())),:]"
   ]
  },
  {
   "cell_type": "code",
   "execution_count": null,
   "metadata": {},
   "outputs": [],
   "source": [
    "ids[ids.apply(lambda x: x in df_mg.id.tolist())]"
   ]
  },
  {
   "cell_type": "code",
   "execution_count": null,
   "metadata": {},
   "outputs": [],
   "source": [
    "\n",
    "df_mg = pd.read_csv('/Users/Imperssonator/CC/uhcs/data/afm3000/afm3000.csv')\n",
    "df_mg = df_mg.set_index('id')\n",
    "df_mg"
   ]
  },
  {
   "cell_type": "code",
   "execution_count": null,
   "metadata": {},
   "outputs": [],
   "source": [
    "ids"
   ]
  },
  {
   "cell_type": "code",
   "execution_count": null,
   "metadata": {},
   "outputs": [],
   "source": [
    "labels = np.array(df_mg['fiber'].loc[ids.tolist()])\n",
    "np.unique(labels)"
   ]
  },
  {
   "cell_type": "code",
   "execution_count": null,
   "metadata": {},
   "outputs": [],
   "source": [
    "df_mg.id"
   ]
  },
  {
   "cell_type": "code",
   "execution_count": null,
   "metadata": {},
   "outputs": [],
   "source": [
    "sl=[m.shape for m in micrographs]\n"
   ]
  },
  {
   "cell_type": "code",
   "execution_count": null,
   "metadata": {},
   "outputs": [],
   "source": []
  },
  {
   "cell_type": "code",
   "execution_count": null,
   "metadata": {},
   "outputs": [],
   "source": [
    "out.shape"
   ]
  },
  {
   "cell_type": "code",
   "execution_count": null,
   "metadata": {},
   "outputs": [],
   "source": [
    "range(out.shape[0])"
   ]
  },
  {
   "cell_type": "code",
   "execution_count": null,
   "metadata": {},
   "outputs": [],
   "source": [
    "np.random.choice(range(out.shape[0]), size=0.1, replace=False)"
   ]
  },
  {
   "cell_type": "code",
   "execution_count": null,
   "metadata": {},
   "outputs": [],
   "source": [
    "out.shape"
   ]
  },
  {
   "cell_type": "code",
   "execution_count": null,
   "metadata": {},
   "outputs": [],
   "source": [
    "out_reshape = out.reshape((-1, out.shape[-1])) # to [feature, channels]\n",
    "out_reshape.shape"
   ]
  },
  {
   "cell_type": "code",
   "execution_count": null,
   "metadata": {
    "collapsed": true
   },
   "outputs": [],
   "source": [
    "def tensor_to_features(X, subsample=None):\n",
    "    \"\"\" convert feature map tensor to numpy data matrix {nsamples, nchannels} \"\"\"\n",
    "    \n",
    "    # transpose array so that map dimensions are on the last axis\n",
    "#     features = X.transpose(0,2,3,1) # to [batch, height, width, channels]\n",
    "    features = X.reshape((-1, X.shape[-1])) # to [feature, channels]\n",
    "\n",
    "#     if subsample >= 1.0 or subsample <= 0:\n",
    "#         subsample = None\n",
    "\n",
    "    if subsample is not None:\n",
    "        choice = np.sort(\n",
    "            np.random.choice(range(features.shape[0]), size=subsample, replace=False)\n",
    "        )\n",
    "        features = features[choice]\n",
    "        \n",
    "    return features"
   ]
  },
  {
   "cell_type": "code",
   "execution_count": null,
   "metadata": {},
   "outputs": [],
   "source": [
    "features=tensor_to_features(out)"
   ]
  },
  {
   "cell_type": "code",
   "execution_count": null,
   "metadata": {},
   "outputs": [],
   "source": [
    "features.shape"
   ]
  },
  {
   "cell_type": "code",
   "execution_count": null,
   "metadata": {},
   "outputs": [],
   "source": [
    "features[features==0].shape"
   ]
  },
  {
   "cell_type": "code",
   "execution_count": null,
   "metadata": {},
   "outputs": [],
   "source": [
    "4096*512"
   ]
  },
  {
   "cell_type": "code",
   "execution_count": null,
   "metadata": {
    "collapsed": true
   },
   "outputs": [],
   "source": [
    "import h5py"
   ]
  },
  {
   "cell_type": "code",
   "execution_count": null,
   "metadata": {
    "collapsed": true
   },
   "outputs": [],
   "source": [
    "import glob"
   ]
  },
  {
   "cell_type": "code",
   "execution_count": null,
   "metadata": {
    "collapsed": true
   },
   "outputs": [],
   "source": [
    "datafile=glob.glob('/Users/Imperssonator/CC/uhcs/data/full/features/*')"
   ]
  },
  {
   "cell_type": "code",
   "execution_count": null,
   "metadata": {},
   "outputs": [],
   "source": [
    "datafile=datafile[0]"
   ]
  },
  {
   "cell_type": "code",
   "execution_count": null,
   "metadata": {
    "collapsed": true
   },
   "outputs": [],
   "source": [
    "h5f=h5py.File(datafile[0],'r')"
   ]
  },
  {
   "cell_type": "code",
   "execution_count": null,
   "metadata": {},
   "outputs": [],
   "source": [
    "def load_representations(datafile):\n",
    "    # grab image representations from hdf5 file\n",
    "    keys, features = [], []\n",
    "\n",
    "    with h5py.File(datafile, 'r') as f:\n",
    "        for key in f:\n",
    "            keys.append(key)\n",
    "            features.append(f[key][...])\n",
    "\n",
    "    return np.array(keys), np.array(features)"
   ]
  },
  {
   "cell_type": "code",
   "execution_count": null,
   "metadata": {
    "collapsed": true
   },
   "outputs": [],
   "source": [
    "keys, feats = load_representations(file[0])"
   ]
  },
  {
   "cell_type": "code",
   "execution_count": null,
   "metadata": {},
   "outputs": [],
   "source": [
    "feats.shape"
   ]
  },
  {
   "cell_type": "code",
   "execution_count": null,
   "metadata": {},
   "outputs": [],
   "source": [
    "keys.shape"
   ]
  },
  {
   "cell_type": "code",
   "execution_count": null,
   "metadata": {},
   "outputs": [],
   "source": [
    "keys, features = load_representations(datafile)\n",
    "\n",
    "labels = []\n",
    "for key in keys:\n",
    "    if '-' in key:\n",
    "        # deal with cropped micrographs: key -> Micrograph.id-UL\n",
    "        m_id, quadrant = key.split('-')\n",
    "    else:\n",
    "        m_id = key\n",
    "    m = db.query(Micrograph).filter(Micrograph.micrograph_id == int(m_id)).one()\n",
    "    labels.append(m.primary_microconstituent)\n",
    "labels = np.array(labels)\n",
    "\n",
    "# simplify: get primary microconstituent; throw out martensite\n",
    "primary_label = np.array([label.split('+')[0] for label in labels])\n",
    "k = np.array(keys)[primary_label != 'martensite']\n",
    "l = primary_label[primary_label != 'martensite']\n",
    "X = features[primary_label != 'martensite']\n",
    "\n",
    "l, X, sel = select_balanced_dataset(l, X, n_per_class=n_per_class, seed=seed)\n",
    "\n",
    "cv = StratifiedKFold(n_splits=10, shuffle=True)\n",
    "# cv = StratifiedShuffleSplit(n_splits=10, test_size=0.1)\n"
   ]
  },
  {
   "cell_type": "code",
   "execution_count": null,
   "metadata": {},
   "outputs": [],
   "source": [
    "alist = [1, 2, 3, 4, 5]\n",
    "alist[[1, 3]]"
   ]
  },
  {
   "cell_type": "code",
   "execution_count": null,
   "metadata": {},
   "outputs": [],
   "source": [
    "np.unique(labels)"
   ]
  },
  {
   "cell_type": "code",
   "execution_count": null,
   "metadata": {},
   "outputs": [],
   "source": [
    "np.unique(list(labels))"
   ]
  },
  {
   "cell_type": "code",
   "execution_count": null,
   "metadata": {},
   "outputs": [],
   "source": [
    "import os\n",
    "featuresfile = '/Users/Imperssonator/CC/uhcs/data/afm3000/tsne/ssift-vlad-100.h5'\n",
    "path_list = os.path.normpath(featuresfile).split(os.sep)\n",
    "dataset_dir = os.path.join(*list(path_list[:-2]))"
   ]
  },
  {
   "cell_type": "code",
   "execution_count": null,
   "metadata": {},
   "outputs": [],
   "source": [
    "os.path.join(path_list[:-2])"
   ]
  },
  {
   "cell_type": "code",
   "execution_count": null,
   "metadata": {
    "collapsed": true
   },
   "outputs": [],
   "source": []
  }
 ],
 "metadata": {
  "kernelspec": {
   "display_name": "Python 3",
   "language": "python",
   "name": "python3"
  },
  "language_info": {
   "codemirror_mode": {
    "name": "ipython",
    "version": 3
   },
   "file_extension": ".py",
   "mimetype": "text/x-python",
   "name": "python",
   "nbconvert_exporter": "python",
   "pygments_lexer": "ipython3",
   "version": "3.6.2"
  }
 },
 "nbformat": 4,
 "nbformat_minor": 2
}
