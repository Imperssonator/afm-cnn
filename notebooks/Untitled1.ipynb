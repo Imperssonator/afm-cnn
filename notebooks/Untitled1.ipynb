{
 "cells": [
  {
   "cell_type": "code",
   "execution_count": 1,
   "metadata": {},
   "outputs": [],
   "source": [
    "import json\n",
    "import glob\n",
    "import os\n",
    "import pandas as pd\n",
    "import numpy as np"
   ]
  },
  {
   "cell_type": "code",
   "execution_count": 2,
   "metadata": {
    "collapsed": true
   },
   "outputs": [],
   "source": [
    "jglob = glob.glob('/Users/nils/CC/afm-cnn/data/afm/svmresults/*.json')"
   ]
  },
  {
   "cell_type": "code",
   "execution_count": 3,
   "metadata": {},
   "outputs": [
    {
     "data": {
      "text/plain": [
       "['/Users/nils/CC/afm-cnn/data/afm/svmresults/vgg16_block3_conv3-vlad-128.json',\n",
       " '/Users/nils/CC/afm-cnn/data/afm/svmresults/vgg16_block3_conv3-vlad-256.json',\n",
       " '/Users/nils/CC/afm-cnn/data/afm/svmresults/vgg16_block3_conv3-vlad-64.json',\n",
       " '/Users/nils/CC/afm-cnn/data/afm/svmresults/vgg16_block4_conv3-vlad-100.json',\n",
       " '/Users/nils/CC/afm-cnn/data/afm/svmresults/vgg16_block4_conv3-vlad-128.json',\n",
       " '/Users/nils/CC/afm-cnn/data/afm/svmresults/vgg16_block4_conv3-vlad-64.json',\n",
       " '/Users/nils/CC/afm-cnn/data/afm/svmresults/vgg16_block5_conv3-vlad-128.json',\n",
       " '/Users/nils/CC/afm-cnn/data/afm/svmresults/vgg16_block5_conv3-vlad-256.json',\n",
       " '/Users/nils/CC/afm-cnn/data/afm/svmresults/vgg16_block5_conv3-vlad-64.json']"
      ]
     },
     "execution_count": 3,
     "metadata": {},
     "output_type": "execute_result"
    }
   ],
   "source": [
    "jglob"
   ]
  },
  {
   "cell_type": "code",
   "execution_count": 46,
   "metadata": {},
   "outputs": [
    {
     "data": {
      "text/html": [
       "<div>\n",
       "<style>\n",
       "    .dataframe thead tr:only-child th {\n",
       "        text-align: right;\n",
       "    }\n",
       "\n",
       "    .dataframe thead th {\n",
       "        text-align: left;\n",
       "    }\n",
       "\n",
       "    .dataframe tbody tr th {\n",
       "        vertical-align: top;\n",
       "    }\n",
       "</style>\n",
       "<table border=\"1\" class=\"dataframe\">\n",
       "  <thead>\n",
       "    <tr style=\"text-align: right;\">\n",
       "      <th></th>\n",
       "      <th>index</th>\n",
       "      <th>score</th>\n",
       "      <th>std</th>\n",
       "      <th>tscore</th>\n",
       "      <th>tstd</th>\n",
       "      <th>file</th>\n",
       "    </tr>\n",
       "  </thead>\n",
       "  <tbody>\n",
       "    <tr>\n",
       "      <th>0</th>\n",
       "      <td>1.0</td>\n",
       "      <td>0.92025</td>\n",
       "      <td>0.040932</td>\n",
       "      <td>0.959111</td>\n",
       "      <td>0.004362</td>\n",
       "      <td>vgg16_block3_conv3-vlad-128.json</td>\n",
       "    </tr>\n",
       "    <tr>\n",
       "      <th>1</th>\n",
       "      <td>1.0</td>\n",
       "      <td>0.94975</td>\n",
       "      <td>0.035798</td>\n",
       "      <td>0.983417</td>\n",
       "      <td>0.002859</td>\n",
       "      <td>vgg16_block3_conv3-vlad-256.json</td>\n",
       "    </tr>\n",
       "    <tr>\n",
       "      <th>2</th>\n",
       "      <td>1.0</td>\n",
       "      <td>0.92825</td>\n",
       "      <td>0.039832</td>\n",
       "      <td>0.974389</td>\n",
       "      <td>0.004133</td>\n",
       "      <td>vgg16_block3_conv3-vlad-64.json</td>\n",
       "    </tr>\n",
       "    <tr>\n",
       "      <th>3</th>\n",
       "      <td>1.0</td>\n",
       "      <td>0.94025</td>\n",
       "      <td>0.038088</td>\n",
       "      <td>0.987972</td>\n",
       "      <td>0.002371</td>\n",
       "      <td>vgg16_block4_conv3-vlad-100.json</td>\n",
       "    </tr>\n",
       "    <tr>\n",
       "      <th>4</th>\n",
       "      <td>1.0</td>\n",
       "      <td>0.95150</td>\n",
       "      <td>0.038570</td>\n",
       "      <td>0.994667</td>\n",
       "      <td>0.002001</td>\n",
       "      <td>vgg16_block4_conv3-vlad-128.json</td>\n",
       "    </tr>\n",
       "    <tr>\n",
       "      <th>5</th>\n",
       "      <td>1.0</td>\n",
       "      <td>0.92550</td>\n",
       "      <td>0.033706</td>\n",
       "      <td>0.978694</td>\n",
       "      <td>0.003788</td>\n",
       "      <td>vgg16_block4_conv3-vlad-64.json</td>\n",
       "    </tr>\n",
       "    <tr>\n",
       "      <th>6</th>\n",
       "      <td>1.0</td>\n",
       "      <td>0.95500</td>\n",
       "      <td>0.031782</td>\n",
       "      <td>0.996556</td>\n",
       "      <td>0.001634</td>\n",
       "      <td>vgg16_block5_conv3-vlad-128.json</td>\n",
       "    </tr>\n",
       "    <tr>\n",
       "      <th>7</th>\n",
       "      <td>1.0</td>\n",
       "      <td>0.94925</td>\n",
       "      <td>0.031872</td>\n",
       "      <td>0.997111</td>\n",
       "      <td>0.001419</td>\n",
       "      <td>vgg16_block5_conv3-vlad-256.json</td>\n",
       "    </tr>\n",
       "    <tr>\n",
       "      <th>8</th>\n",
       "      <td>1.0</td>\n",
       "      <td>0.93550</td>\n",
       "      <td>0.035209</td>\n",
       "      <td>0.988528</td>\n",
       "      <td>0.003759</td>\n",
       "      <td>vgg16_block5_conv3-vlad-64.json</td>\n",
       "    </tr>\n",
       "  </tbody>\n",
       "</table>\n",
       "</div>"
      ],
      "text/plain": [
       "  index    score       std    tscore      tstd  \\\n",
       "0   1.0  0.92025  0.040932  0.959111  0.004362   \n",
       "1   1.0  0.94975  0.035798  0.983417  0.002859   \n",
       "2   1.0  0.92825  0.039832  0.974389  0.004133   \n",
       "3   1.0  0.94025  0.038088  0.987972  0.002371   \n",
       "4   1.0  0.95150  0.038570  0.994667  0.002001   \n",
       "5   1.0  0.92550  0.033706  0.978694  0.003788   \n",
       "6   1.0  0.95500  0.031782  0.996556  0.001634   \n",
       "7   1.0  0.94925  0.031872  0.997111  0.001419   \n",
       "8   1.0  0.93550  0.035209  0.988528  0.003759   \n",
       "\n",
       "                               file  \n",
       "0  vgg16_block3_conv3-vlad-128.json  \n",
       "1  vgg16_block3_conv3-vlad-256.json  \n",
       "2   vgg16_block3_conv3-vlad-64.json  \n",
       "3  vgg16_block4_conv3-vlad-100.json  \n",
       "4  vgg16_block4_conv3-vlad-128.json  \n",
       "5   vgg16_block4_conv3-vlad-64.json  \n",
       "6  vgg16_block5_conv3-vlad-128.json  \n",
       "7  vgg16_block5_conv3-vlad-256.json  \n",
       "8   vgg16_block5_conv3-vlad-64.json  "
      ]
     },
     "execution_count": 46,
     "metadata": {},
     "output_type": "execute_result"
    }
   ],
   "source": [
    "df=pd.DataFrame()\n",
    "for j in jglob:\n",
    "    with open(j) as data_file:\n",
    "        data_string = data_file.read()\n",
    "        data = json.loads(data_string)\n",
    "        df_temp=pd.DataFrame(data['cv_C']).transpose().reset_index()\n",
    "        df_temp['file']=os.path.split(j)[1]\n",
    "        df=df.append(df_temp,ignore_index=True)\n",
    "        \n",
    "df"
   ]
  }
 ],
 "metadata": {
  "kernelspec": {
   "display_name": "Python 3",
   "language": "python",
   "name": "python3"
  },
  "language_info": {
   "codemirror_mode": {
    "name": "ipython",
    "version": 3
   },
   "file_extension": ".py",
   "mimetype": "text/x-python",
   "name": "python",
   "nbconvert_exporter": "python",
   "pygments_lexer": "ipython3",
   "version": "3.6.2"
  }
 },
 "nbformat": 4,
 "nbformat_minor": 2
}
