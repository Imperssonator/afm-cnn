{
 "cells": [
  {
   "cell_type": "code",
   "execution_count": 1,
   "metadata": {
    "collapsed": true
   },
   "outputs": [],
   "source": [
    "import matplotlib.pyplot as plt\n",
    "import numpy as np"
   ]
  },
  {
   "cell_type": "code",
   "execution_count": 2,
   "metadata": {},
   "outputs": [
    {
     "name": "stdout",
     "output_type": "stream",
     "text": [
      "Solving environment: done\n",
      "\n",
      "\n",
      "==> WARNING: A newer version of conda exists. <==\n",
      "  current version: 4.5.2\n",
      "  latest version: 4.5.4\n",
      "\n",
      "Please update conda by running\n",
      "\n",
      "    $ conda update -n base conda\n",
      "\n",
      "\n",
      "\n",
      "## Package Plan ##\n",
      "\n",
      "  environment location: /anaconda/envs/pyten\n",
      "\n",
      "  added / updated specs: \n",
      "    - primesieve\n",
      "\n",
      "\n",
      "The following packages will be downloaded:\n",
      "\n",
      "    package                    |            build\n",
      "    ---------------------------|-----------------\n",
      "    scikit-learn-0.19.0        |      np112py36_0         5.3 MB\n",
      "    opencv-3.2.0               |      np112py36_0        18.8 MB  conda-forge\n",
      "    primesieve-5.7.3           |                0         198 KB  conda-forge\n",
      "    libgcc-4.8.5               |                1         785 KB\n",
      "    hdf5-1.8.17                |               11         4.0 MB  conda-forge\n",
      "    blas-1.0                   |              mkl           6 KB\n",
      "    dask-core-0.17.5           |             py_0         441 KB  conda-forge\n",
      "    h5py-2.7.0                 |      np112py36_0         908 KB  conda-forge\n",
      "    ------------------------------------------------------------\n",
      "                                           Total:        30.4 MB\n",
      "\n",
      "The following NEW packages will be INSTALLED:\n",
      "\n",
      "    ca-certificates: 2018.4.16-0                   conda-forge\n",
      "    dask-core:       0.17.5-py_0                   conda-forge\n",
      "    imageio:         2.3.0-py36_0                  conda-forge\n",
      "    libgcc:          4.8.5-1                                  \n",
      "    primesieve:      5.7.3-0                       conda-forge\n",
      "    toolz:           0.9.0-py_0                    conda-forge\n",
      "\n",
      "The following packages will be UPDATED:\n",
      "\n",
      "    certifi:         2017.11.5-py36_0              conda-forge --> 2018.4.16-py36_0   conda-forge\n",
      "    openssl:         1.0.2l-0                                  --> 1.0.2o-0           conda-forge\n",
      "    pywavelets:      0.5.2-np113py36_0                         --> 0.5.2-py36_1       conda-forge\n",
      "    scikit-image:    0.13.0-np113py36_0                        --> 0.13.1-py36_0      conda-forge\n",
      "\n",
      "The following packages will be DOWNGRADED:\n",
      "\n",
      "    blas:            1.1-openblas                  conda-forge --> 1.0-mkl                       \n",
      "    h5py:            2.7.1-py36_2                  conda-forge --> 2.7.0-np112py36_0  conda-forge\n",
      "    hdf5:            1.10.1-1                      conda-forge --> 1.8.17-11          conda-forge\n",
      "    numpy:           1.13.3-py36_blas_openblas_201 conda-forge [blas_openblas] --> 1.12.1-py36_0                 \n",
      "    opencv:          3.3.0-py36_blas_openblas_203  conda-forge [blas_openblas] --> 3.2.0-np112py36_0  conda-forge\n",
      "    scikit-learn:    0.19.1-py36_blas_openblas_201 conda-forge [blas_openblas] --> 0.19.0-np112py36_0            \n",
      "    scipy:           1.0.0-py36_blas_openblas_201  conda-forge [blas_openblas] --> 0.19.1-np112py36_0            \n",
      "\n",
      "Proceed ([y]/n)? ^C\n"
     ]
    }
   ],
   "source": [
    "!conda install primesieve"
   ]
  },
  {
   "cell_type": "code",
   "execution_count": null,
   "metadata": {
    "collapsed": true
   },
   "outputs": [],
   "source": []
  }
 ],
 "metadata": {
  "kernelspec": {
   "display_name": "Python 3",
   "language": "python",
   "name": "python3"
  },
  "language_info": {
   "codemirror_mode": {
    "name": "ipython",
    "version": 3
   },
   "file_extension": ".py",
   "mimetype": "text/x-python",
   "name": "python",
   "nbconvert_exporter": "python",
   "pygments_lexer": "ipython3",
   "version": "3.6.2"
  }
 },
 "nbformat": 4,
 "nbformat_minor": 2
}
